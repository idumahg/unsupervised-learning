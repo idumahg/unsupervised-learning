{
 "cells": [
  {
   "cell_type": "markdown",
   "metadata": {},
   "source": [
    "# Project: Identify Customer Segments\n",
    "\n",
    "In this project, I apply unsupervised learning techniques to identify segments of the population that form the core customer base for a mail-order sales company in Germany. These segments can then be used to direct marketing campaigns towards audiences that will have the highest expected rate of returns. The data that I use has been provided by AZ Direct and Arvato Finance Solution, and represents a real-life data science task.\n",
    "\n",
    "Their main question of interest is to identify facets of the population that are most likely to be purchasers of their products for a mailout campaign. In this notebook, I use unsupervised learning techniques to organize the general population into clusters, then use those clusters to see which of them comprise the main user base for the company. Prior to applying the machine learning methods, I also needed to assess and clean the data in order to convert the data into a usable form."
   ]
  },
  {
   "cell_type": "code",
   "execution_count": 2,
   "metadata": {},
   "outputs": [],
   "source": [
    "import numpy as np\n",
    "import pandas as pd\n",
    "import matplotlib.pyplot as plt\n",
    "from sklearn.cluster import KMeans\n",
    "import seaborn as sns\n",
    "import random\n",
    "from sklearn.impute import SimpleImputer\n",
    "from sklearn.preprocessing import StandardScaler\n",
    "from sklearn.decomposition import PCA\n",
    "\n",
    "%matplotlib inline"
   ]
  },
  {
   "cell_type": "markdown",
   "metadata": {},
   "source": [
    "### Step 0: Load the Data\n",
    "\n",
    "There are four files associated with this project (not including this one):\n",
    "\n",
    "- `Udacity_AZDIAS_Subset.csv`: Demographics data for the general population of Germany; 891211 persons (rows) x 85 features (columns).\n",
    "- `Udacity_CUSTOMERS_Subset.csv`: Demographics data for customers of a mail-order company; 191652 persons (rows) x 85 features (columns).\n",
    "- `Data_Dictionary.md`: Detailed information file about the features in the provided datasets.\n",
    "- `AZDIAS_Feature_Summary.csv`: Summary of feature attributes for demographics data; 85 features (rows) x 4 columns\n",
    "\n",
    "Each row of the demographics files represents a single person, but also includes information outside of individuals, including information about their household, building, and neighborhood. I use this information to cluster the general population into groups with similar demographic properties. This shows how the people in the customers dataset fit into those created clusters. The hope here is that certain clusters are over-represented in the customers data, as compared to the general population; those over-represented clusters will be assumed to be part of the core userbase. This information can then be used for further applications, such as targeting for a marketing campaign."
   ]
  },
  {
   "cell_type": "code",
   "execution_count": 6,
   "metadata": {},
   "outputs": [],
   "source": [
    "# Load in the general demographics data.\n",
    "azdias = pd.read_csv('./Udacity_AZDIAS_Subset.csv', sep=';')\n",
    "\n",
    "# Load in the feature summary file.\n",
    "feat_info = pd.read_csv('./AZDIAS_Feature_Summary.csv', sep=';')"
   ]
  },
  {
   "cell_type": "code",
   "execution_count": 7,
   "metadata": {},
   "outputs": [
    {
     "data": {
      "text/html": [
       "<div>\n",
       "<style scoped>\n",
       "    .dataframe tbody tr th:only-of-type {\n",
       "        vertical-align: middle;\n",
       "    }\n",
       "\n",
       "    .dataframe tbody tr th {\n",
       "        vertical-align: top;\n",
       "    }\n",
       "\n",
       "    .dataframe thead th {\n",
       "        text-align: right;\n",
       "    }\n",
       "</style>\n",
       "<table border=\"1\" class=\"dataframe\">\n",
       "  <thead>\n",
       "    <tr style=\"text-align: right;\">\n",
       "      <th></th>\n",
       "      <th>attribute</th>\n",
       "      <th>information_level</th>\n",
       "      <th>type</th>\n",
       "      <th>missing_or_unknown</th>\n",
       "    </tr>\n",
       "  </thead>\n",
       "  <tbody>\n",
       "    <tr>\n",
       "      <th>0</th>\n",
       "      <td>AGER_TYP</td>\n",
       "      <td>person</td>\n",
       "      <td>categorical</td>\n",
       "      <td>[-1,0]</td>\n",
       "    </tr>\n",
       "    <tr>\n",
       "      <th>1</th>\n",
       "      <td>ALTERSKATEGORIE_GROB</td>\n",
       "      <td>person</td>\n",
       "      <td>ordinal</td>\n",
       "      <td>[-1,0,9]</td>\n",
       "    </tr>\n",
       "    <tr>\n",
       "      <th>2</th>\n",
       "      <td>ANREDE_KZ</td>\n",
       "      <td>person</td>\n",
       "      <td>categorical</td>\n",
       "      <td>[-1,0]</td>\n",
       "    </tr>\n",
       "    <tr>\n",
       "      <th>3</th>\n",
       "      <td>CJT_GESAMTTYP</td>\n",
       "      <td>person</td>\n",
       "      <td>categorical</td>\n",
       "      <td>[0]</td>\n",
       "    </tr>\n",
       "    <tr>\n",
       "      <th>4</th>\n",
       "      <td>FINANZ_MINIMALIST</td>\n",
       "      <td>person</td>\n",
       "      <td>ordinal</td>\n",
       "      <td>[-1]</td>\n",
       "    </tr>\n",
       "    <tr>\n",
       "      <th>5</th>\n",
       "      <td>FINANZ_SPARER</td>\n",
       "      <td>person</td>\n",
       "      <td>ordinal</td>\n",
       "      <td>[-1]</td>\n",
       "    </tr>\n",
       "    <tr>\n",
       "      <th>6</th>\n",
       "      <td>FINANZ_VORSORGER</td>\n",
       "      <td>person</td>\n",
       "      <td>ordinal</td>\n",
       "      <td>[-1]</td>\n",
       "    </tr>\n",
       "    <tr>\n",
       "      <th>7</th>\n",
       "      <td>FINANZ_ANLEGER</td>\n",
       "      <td>person</td>\n",
       "      <td>ordinal</td>\n",
       "      <td>[-1]</td>\n",
       "    </tr>\n",
       "    <tr>\n",
       "      <th>8</th>\n",
       "      <td>FINANZ_UNAUFFAELLIGER</td>\n",
       "      <td>person</td>\n",
       "      <td>ordinal</td>\n",
       "      <td>[-1]</td>\n",
       "    </tr>\n",
       "    <tr>\n",
       "      <th>9</th>\n",
       "      <td>FINANZ_HAUSBAUER</td>\n",
       "      <td>person</td>\n",
       "      <td>ordinal</td>\n",
       "      <td>[-1]</td>\n",
       "    </tr>\n",
       "  </tbody>\n",
       "</table>\n",
       "</div>"
      ],
      "text/plain": [
       "               attribute information_level         type missing_or_unknown\n",
       "0               AGER_TYP            person  categorical             [-1,0]\n",
       "1   ALTERSKATEGORIE_GROB            person      ordinal           [-1,0,9]\n",
       "2              ANREDE_KZ            person  categorical             [-1,0]\n",
       "3          CJT_GESAMTTYP            person  categorical                [0]\n",
       "4      FINANZ_MINIMALIST            person      ordinal               [-1]\n",
       "5          FINANZ_SPARER            person      ordinal               [-1]\n",
       "6       FINANZ_VORSORGER            person      ordinal               [-1]\n",
       "7         FINANZ_ANLEGER            person      ordinal               [-1]\n",
       "8  FINANZ_UNAUFFAELLIGER            person      ordinal               [-1]\n",
       "9       FINANZ_HAUSBAUER            person      ordinal               [-1]"
      ]
     },
     "execution_count": 7,
     "metadata": {},
     "output_type": "execute_result"
    }
   ],
   "source": [
    "feat_info.head(10)"
   ]
  },
  {
   "cell_type": "code",
   "execution_count": 8,
   "metadata": {},
   "outputs": [
    {
     "data": {
      "text/html": [
       "<div>\n",
       "<style scoped>\n",
       "    .dataframe tbody tr th:only-of-type {\n",
       "        vertical-align: middle;\n",
       "    }\n",
       "\n",
       "    .dataframe tbody tr th {\n",
       "        vertical-align: top;\n",
       "    }\n",
       "\n",
       "    .dataframe thead th {\n",
       "        text-align: right;\n",
       "    }\n",
       "</style>\n",
       "<table border=\"1\" class=\"dataframe\">\n",
       "  <thead>\n",
       "    <tr style=\"text-align: right;\">\n",
       "      <th></th>\n",
       "      <th>AGER_TYP</th>\n",
       "      <th>ALTERSKATEGORIE_GROB</th>\n",
       "      <th>ANREDE_KZ</th>\n",
       "      <th>CJT_GESAMTTYP</th>\n",
       "      <th>FINANZ_MINIMALIST</th>\n",
       "      <th>FINANZ_SPARER</th>\n",
       "      <th>FINANZ_VORSORGER</th>\n",
       "      <th>FINANZ_ANLEGER</th>\n",
       "      <th>FINANZ_UNAUFFAELLIGER</th>\n",
       "      <th>FINANZ_HAUSBAUER</th>\n",
       "      <th>...</th>\n",
       "      <th>PLZ8_ANTG1</th>\n",
       "      <th>PLZ8_ANTG2</th>\n",
       "      <th>PLZ8_ANTG3</th>\n",
       "      <th>PLZ8_ANTG4</th>\n",
       "      <th>PLZ8_BAUMAX</th>\n",
       "      <th>PLZ8_HHZ</th>\n",
       "      <th>PLZ8_GBZ</th>\n",
       "      <th>ARBEIT</th>\n",
       "      <th>ORTSGR_KLS9</th>\n",
       "      <th>RELAT_AB</th>\n",
       "    </tr>\n",
       "  </thead>\n",
       "  <tbody>\n",
       "    <tr>\n",
       "      <th>0</th>\n",
       "      <td>-1</td>\n",
       "      <td>2</td>\n",
       "      <td>1</td>\n",
       "      <td>2.0</td>\n",
       "      <td>3</td>\n",
       "      <td>4</td>\n",
       "      <td>3</td>\n",
       "      <td>5</td>\n",
       "      <td>5</td>\n",
       "      <td>3</td>\n",
       "      <td>...</td>\n",
       "      <td>NaN</td>\n",
       "      <td>NaN</td>\n",
       "      <td>NaN</td>\n",
       "      <td>NaN</td>\n",
       "      <td>NaN</td>\n",
       "      <td>NaN</td>\n",
       "      <td>NaN</td>\n",
       "      <td>NaN</td>\n",
       "      <td>NaN</td>\n",
       "      <td>NaN</td>\n",
       "    </tr>\n",
       "    <tr>\n",
       "      <th>1</th>\n",
       "      <td>-1</td>\n",
       "      <td>1</td>\n",
       "      <td>2</td>\n",
       "      <td>5.0</td>\n",
       "      <td>1</td>\n",
       "      <td>5</td>\n",
       "      <td>2</td>\n",
       "      <td>5</td>\n",
       "      <td>4</td>\n",
       "      <td>5</td>\n",
       "      <td>...</td>\n",
       "      <td>2.0</td>\n",
       "      <td>3.0</td>\n",
       "      <td>2.0</td>\n",
       "      <td>1.0</td>\n",
       "      <td>1.0</td>\n",
       "      <td>5.0</td>\n",
       "      <td>4.0</td>\n",
       "      <td>3.0</td>\n",
       "      <td>5.0</td>\n",
       "      <td>4.0</td>\n",
       "    </tr>\n",
       "    <tr>\n",
       "      <th>2</th>\n",
       "      <td>-1</td>\n",
       "      <td>3</td>\n",
       "      <td>2</td>\n",
       "      <td>3.0</td>\n",
       "      <td>1</td>\n",
       "      <td>4</td>\n",
       "      <td>1</td>\n",
       "      <td>2</td>\n",
       "      <td>3</td>\n",
       "      <td>5</td>\n",
       "      <td>...</td>\n",
       "      <td>3.0</td>\n",
       "      <td>3.0</td>\n",
       "      <td>1.0</td>\n",
       "      <td>0.0</td>\n",
       "      <td>1.0</td>\n",
       "      <td>4.0</td>\n",
       "      <td>4.0</td>\n",
       "      <td>3.0</td>\n",
       "      <td>5.0</td>\n",
       "      <td>2.0</td>\n",
       "    </tr>\n",
       "    <tr>\n",
       "      <th>3</th>\n",
       "      <td>2</td>\n",
       "      <td>4</td>\n",
       "      <td>2</td>\n",
       "      <td>2.0</td>\n",
       "      <td>4</td>\n",
       "      <td>2</td>\n",
       "      <td>5</td>\n",
       "      <td>2</td>\n",
       "      <td>1</td>\n",
       "      <td>2</td>\n",
       "      <td>...</td>\n",
       "      <td>2.0</td>\n",
       "      <td>2.0</td>\n",
       "      <td>2.0</td>\n",
       "      <td>0.0</td>\n",
       "      <td>1.0</td>\n",
       "      <td>3.0</td>\n",
       "      <td>4.0</td>\n",
       "      <td>2.0</td>\n",
       "      <td>3.0</td>\n",
       "      <td>3.0</td>\n",
       "    </tr>\n",
       "    <tr>\n",
       "      <th>4</th>\n",
       "      <td>-1</td>\n",
       "      <td>3</td>\n",
       "      <td>1</td>\n",
       "      <td>5.0</td>\n",
       "      <td>4</td>\n",
       "      <td>3</td>\n",
       "      <td>4</td>\n",
       "      <td>1</td>\n",
       "      <td>3</td>\n",
       "      <td>2</td>\n",
       "      <td>...</td>\n",
       "      <td>2.0</td>\n",
       "      <td>4.0</td>\n",
       "      <td>2.0</td>\n",
       "      <td>1.0</td>\n",
       "      <td>2.0</td>\n",
       "      <td>3.0</td>\n",
       "      <td>3.0</td>\n",
       "      <td>4.0</td>\n",
       "      <td>6.0</td>\n",
       "      <td>5.0</td>\n",
       "    </tr>\n",
       "    <tr>\n",
       "      <th>5</th>\n",
       "      <td>3</td>\n",
       "      <td>1</td>\n",
       "      <td>2</td>\n",
       "      <td>2.0</td>\n",
       "      <td>3</td>\n",
       "      <td>1</td>\n",
       "      <td>5</td>\n",
       "      <td>2</td>\n",
       "      <td>2</td>\n",
       "      <td>5</td>\n",
       "      <td>...</td>\n",
       "      <td>2.0</td>\n",
       "      <td>3.0</td>\n",
       "      <td>1.0</td>\n",
       "      <td>1.0</td>\n",
       "      <td>1.0</td>\n",
       "      <td>5.0</td>\n",
       "      <td>5.0</td>\n",
       "      <td>2.0</td>\n",
       "      <td>3.0</td>\n",
       "      <td>3.0</td>\n",
       "    </tr>\n",
       "    <tr>\n",
       "      <th>6</th>\n",
       "      <td>-1</td>\n",
       "      <td>2</td>\n",
       "      <td>2</td>\n",
       "      <td>5.0</td>\n",
       "      <td>1</td>\n",
       "      <td>5</td>\n",
       "      <td>1</td>\n",
       "      <td>5</td>\n",
       "      <td>4</td>\n",
       "      <td>3</td>\n",
       "      <td>...</td>\n",
       "      <td>3.0</td>\n",
       "      <td>3.0</td>\n",
       "      <td>1.0</td>\n",
       "      <td>0.0</td>\n",
       "      <td>1.0</td>\n",
       "      <td>5.0</td>\n",
       "      <td>5.0</td>\n",
       "      <td>4.0</td>\n",
       "      <td>6.0</td>\n",
       "      <td>3.0</td>\n",
       "    </tr>\n",
       "    <tr>\n",
       "      <th>7</th>\n",
       "      <td>-1</td>\n",
       "      <td>1</td>\n",
       "      <td>1</td>\n",
       "      <td>3.0</td>\n",
       "      <td>3</td>\n",
       "      <td>3</td>\n",
       "      <td>4</td>\n",
       "      <td>1</td>\n",
       "      <td>3</td>\n",
       "      <td>2</td>\n",
       "      <td>...</td>\n",
       "      <td>3.0</td>\n",
       "      <td>3.0</td>\n",
       "      <td>1.0</td>\n",
       "      <td>0.0</td>\n",
       "      <td>1.0</td>\n",
       "      <td>4.0</td>\n",
       "      <td>4.0</td>\n",
       "      <td>2.0</td>\n",
       "      <td>5.0</td>\n",
       "      <td>2.0</td>\n",
       "    </tr>\n",
       "    <tr>\n",
       "      <th>8</th>\n",
       "      <td>-1</td>\n",
       "      <td>3</td>\n",
       "      <td>1</td>\n",
       "      <td>3.0</td>\n",
       "      <td>4</td>\n",
       "      <td>4</td>\n",
       "      <td>2</td>\n",
       "      <td>4</td>\n",
       "      <td>2</td>\n",
       "      <td>2</td>\n",
       "      <td>...</td>\n",
       "      <td>2.0</td>\n",
       "      <td>3.0</td>\n",
       "      <td>2.0</td>\n",
       "      <td>1.0</td>\n",
       "      <td>1.0</td>\n",
       "      <td>3.0</td>\n",
       "      <td>3.0</td>\n",
       "      <td>2.0</td>\n",
       "      <td>4.0</td>\n",
       "      <td>3.0</td>\n",
       "    </tr>\n",
       "    <tr>\n",
       "      <th>9</th>\n",
       "      <td>-1</td>\n",
       "      <td>3</td>\n",
       "      <td>2</td>\n",
       "      <td>4.0</td>\n",
       "      <td>2</td>\n",
       "      <td>4</td>\n",
       "      <td>2</td>\n",
       "      <td>3</td>\n",
       "      <td>5</td>\n",
       "      <td>4</td>\n",
       "      <td>...</td>\n",
       "      <td>2.0</td>\n",
       "      <td>3.0</td>\n",
       "      <td>2.0</td>\n",
       "      <td>1.0</td>\n",
       "      <td>1.0</td>\n",
       "      <td>3.0</td>\n",
       "      <td>3.0</td>\n",
       "      <td>2.0</td>\n",
       "      <td>3.0</td>\n",
       "      <td>1.0</td>\n",
       "    </tr>\n",
       "  </tbody>\n",
       "</table>\n",
       "<p>10 rows × 85 columns</p>\n",
       "</div>"
      ],
      "text/plain": [
       "   AGER_TYP  ALTERSKATEGORIE_GROB  ANREDE_KZ  CJT_GESAMTTYP  \\\n",
       "0        -1                     2          1            2.0   \n",
       "1        -1                     1          2            5.0   \n",
       "2        -1                     3          2            3.0   \n",
       "3         2                     4          2            2.0   \n",
       "4        -1                     3          1            5.0   \n",
       "5         3                     1          2            2.0   \n",
       "6        -1                     2          2            5.0   \n",
       "7        -1                     1          1            3.0   \n",
       "8        -1                     3          1            3.0   \n",
       "9        -1                     3          2            4.0   \n",
       "\n",
       "   FINANZ_MINIMALIST  FINANZ_SPARER  FINANZ_VORSORGER  FINANZ_ANLEGER  \\\n",
       "0                  3              4                 3               5   \n",
       "1                  1              5                 2               5   \n",
       "2                  1              4                 1               2   \n",
       "3                  4              2                 5               2   \n",
       "4                  4              3                 4               1   \n",
       "5                  3              1                 5               2   \n",
       "6                  1              5                 1               5   \n",
       "7                  3              3                 4               1   \n",
       "8                  4              4                 2               4   \n",
       "9                  2              4                 2               3   \n",
       "\n",
       "   FINANZ_UNAUFFAELLIGER  FINANZ_HAUSBAUER    ...     PLZ8_ANTG1  PLZ8_ANTG2  \\\n",
       "0                      5                 3    ...            NaN         NaN   \n",
       "1                      4                 5    ...            2.0         3.0   \n",
       "2                      3                 5    ...            3.0         3.0   \n",
       "3                      1                 2    ...            2.0         2.0   \n",
       "4                      3                 2    ...            2.0         4.0   \n",
       "5                      2                 5    ...            2.0         3.0   \n",
       "6                      4                 3    ...            3.0         3.0   \n",
       "7                      3                 2    ...            3.0         3.0   \n",
       "8                      2                 2    ...            2.0         3.0   \n",
       "9                      5                 4    ...            2.0         3.0   \n",
       "\n",
       "   PLZ8_ANTG3  PLZ8_ANTG4  PLZ8_BAUMAX  PLZ8_HHZ  PLZ8_GBZ  ARBEIT  \\\n",
       "0         NaN         NaN          NaN       NaN       NaN     NaN   \n",
       "1         2.0         1.0          1.0       5.0       4.0     3.0   \n",
       "2         1.0         0.0          1.0       4.0       4.0     3.0   \n",
       "3         2.0         0.0          1.0       3.0       4.0     2.0   \n",
       "4         2.0         1.0          2.0       3.0       3.0     4.0   \n",
       "5         1.0         1.0          1.0       5.0       5.0     2.0   \n",
       "6         1.0         0.0          1.0       5.0       5.0     4.0   \n",
       "7         1.0         0.0          1.0       4.0       4.0     2.0   \n",
       "8         2.0         1.0          1.0       3.0       3.0     2.0   \n",
       "9         2.0         1.0          1.0       3.0       3.0     2.0   \n",
       "\n",
       "   ORTSGR_KLS9  RELAT_AB  \n",
       "0          NaN       NaN  \n",
       "1          5.0       4.0  \n",
       "2          5.0       2.0  \n",
       "3          3.0       3.0  \n",
       "4          6.0       5.0  \n",
       "5          3.0       3.0  \n",
       "6          6.0       3.0  \n",
       "7          5.0       2.0  \n",
       "8          4.0       3.0  \n",
       "9          3.0       1.0  \n",
       "\n",
       "[10 rows x 85 columns]"
      ]
     },
     "execution_count": 8,
     "metadata": {},
     "output_type": "execute_result"
    }
   ],
   "source": [
    "azdias.head(10)"
   ]
  },
  {
   "cell_type": "code",
   "execution_count": 9,
   "metadata": {},
   "outputs": [
    {
     "name": "stdout",
     "output_type": "stream",
     "text": [
      "The number of persons in the demographics data is 891221, and there are 85 features. \n",
      "\n"
     ]
    }
   ],
   "source": [
    "print(f'The number of persons in the demographics data is {azdias.shape[0]}, and there are {azdias.shape[1]} features.', \"\\n\")"
   ]
  },
  {
   "cell_type": "markdown",
   "metadata": {},
   "source": [
    "## Step 1: Preprocessing\n",
    "\n",
    "### Step 1.1: Assess Missing Data\n",
    "\n",
    "The feature summary file contains a summary of properties for each demographics data column. This file is used to help with cleaning decisions for the data. First of all, I assess the demographics data in terms of missing data. \n",
    "\n",
    "#### Step 1.1.1: Convert Missing Value Codes to NaNs\n",
    "The fourth column of the feature attributes summary (loaded in above as `feat_info`) documents the codes from the data dictionary that indicate missing or unknown data. While the file encodes this as a list (e.g. `[-1,0]`), this will get read in as a string object. I start with a little bit of parsing to make use of it to identify and clean the data. Then I convert data that matches a 'missing' or 'unknown' value code into a numpy NaN value. "
   ]
  },
  {
   "cell_type": "code",
   "execution_count": 10,
   "metadata": {},
   "outputs": [
    {
     "name": "stdout",
     "output_type": "stream",
     "text": [
      "There is a total of 4896838 naturally missing values in the entire dataset. \n",
      "\n"
     ]
    }
   ],
   "source": [
    "print(f'There is a total of {azdias.isna().sum().sum()} naturally missing values in the entire dataset.', \"\\n\")\n"
   ]
  },
  {
   "cell_type": "code",
   "execution_count": 11,
   "metadata": {},
   "outputs": [
    {
     "data": {
      "text/html": [
       "<div>\n",
       "<style scoped>\n",
       "    .dataframe tbody tr th:only-of-type {\n",
       "        vertical-align: middle;\n",
       "    }\n",
       "\n",
       "    .dataframe tbody tr th {\n",
       "        vertical-align: top;\n",
       "    }\n",
       "\n",
       "    .dataframe thead th {\n",
       "        text-align: right;\n",
       "    }\n",
       "</style>\n",
       "<table border=\"1\" class=\"dataframe\">\n",
       "  <thead>\n",
       "    <tr style=\"text-align: right;\">\n",
       "      <th></th>\n",
       "      <th>attribute</th>\n",
       "      <th>information_level</th>\n",
       "      <th>type</th>\n",
       "      <th>missing_or_unknown</th>\n",
       "    </tr>\n",
       "  </thead>\n",
       "  <tbody>\n",
       "    <tr>\n",
       "      <th>0</th>\n",
       "      <td>AGER_TYP</td>\n",
       "      <td>person</td>\n",
       "      <td>categorical</td>\n",
       "      <td>[-1,0]</td>\n",
       "    </tr>\n",
       "    <tr>\n",
       "      <th>1</th>\n",
       "      <td>ALTERSKATEGORIE_GROB</td>\n",
       "      <td>person</td>\n",
       "      <td>ordinal</td>\n",
       "      <td>[-1,0,9]</td>\n",
       "    </tr>\n",
       "    <tr>\n",
       "      <th>2</th>\n",
       "      <td>ANREDE_KZ</td>\n",
       "      <td>person</td>\n",
       "      <td>categorical</td>\n",
       "      <td>[-1,0]</td>\n",
       "    </tr>\n",
       "    <tr>\n",
       "      <th>3</th>\n",
       "      <td>CJT_GESAMTTYP</td>\n",
       "      <td>person</td>\n",
       "      <td>categorical</td>\n",
       "      <td>[0]</td>\n",
       "    </tr>\n",
       "    <tr>\n",
       "      <th>11</th>\n",
       "      <td>GEBURTSJAHR</td>\n",
       "      <td>person</td>\n",
       "      <td>numeric</td>\n",
       "      <td>[0]</td>\n",
       "    </tr>\n",
       "  </tbody>\n",
       "</table>\n",
       "</div>"
      ],
      "text/plain": [
       "               attribute information_level         type missing_or_unknown\n",
       "0               AGER_TYP            person  categorical             [-1,0]\n",
       "1   ALTERSKATEGORIE_GROB            person      ordinal           [-1,0,9]\n",
       "2              ANREDE_KZ            person  categorical             [-1,0]\n",
       "3          CJT_GESAMTTYP            person  categorical                [0]\n",
       "11           GEBURTSJAHR            person      numeric                [0]"
      ]
     },
     "execution_count": 11,
     "metadata": {},
     "output_type": "execute_result"
    }
   ],
   "source": [
    "# Find out the columns with '0'.\n",
    "feat_with0 = feat_info.loc[feat_info['missing_or_unknown'].isin(['[-1,0]', '[0]', '[-1,0,9]'])]\n",
    "feat_with0.head()"
   ]
  },
  {
   "cell_type": "code",
   "execution_count": 12,
   "metadata": {},
   "outputs": [
    {
     "data": {
      "text/html": [
       "<div>\n",
       "<style scoped>\n",
       "    .dataframe tbody tr th:only-of-type {\n",
       "        vertical-align: middle;\n",
       "    }\n",
       "\n",
       "    .dataframe tbody tr th {\n",
       "        vertical-align: top;\n",
       "    }\n",
       "\n",
       "    .dataframe thead th {\n",
       "        text-align: right;\n",
       "    }\n",
       "</style>\n",
       "<table border=\"1\" class=\"dataframe\">\n",
       "  <thead>\n",
       "    <tr style=\"text-align: right;\">\n",
       "      <th></th>\n",
       "      <th>AGER_TYP</th>\n",
       "      <th>ALTERSKATEGORIE_GROB</th>\n",
       "      <th>ANREDE_KZ</th>\n",
       "      <th>CJT_GESAMTTYP</th>\n",
       "      <th>GEBURTSJAHR</th>\n",
       "      <th>HEALTH_TYP</th>\n",
       "      <th>LP_LEBENSPHASE_FEIN</th>\n",
       "      <th>LP_LEBENSPHASE_GROB</th>\n",
       "      <th>LP_FAMILIE_FEIN</th>\n",
       "      <th>LP_FAMILIE_GROB</th>\n",
       "      <th>...</th>\n",
       "      <th>WOHNDAUER_2008</th>\n",
       "      <th>ANZ_HAUSHALTE_AKTIV</th>\n",
       "      <th>GEBAEUDETYP</th>\n",
       "      <th>MIN_GEBAEUDEJAHR</th>\n",
       "      <th>KBA05_BAUMAX</th>\n",
       "      <th>KBA05_GBZ</th>\n",
       "      <th>KKK</th>\n",
       "      <th>REGIOTYP</th>\n",
       "      <th>PLZ8_BAUMAX</th>\n",
       "      <th>ORTSGR_KLS9</th>\n",
       "    </tr>\n",
       "  </thead>\n",
       "  <tbody>\n",
       "    <tr>\n",
       "      <th>0</th>\n",
       "      <td>-1</td>\n",
       "      <td>2</td>\n",
       "      <td>1</td>\n",
       "      <td>2.0</td>\n",
       "      <td>0</td>\n",
       "      <td>-1</td>\n",
       "      <td>15.0</td>\n",
       "      <td>4.0</td>\n",
       "      <td>2.0</td>\n",
       "      <td>2.0</td>\n",
       "      <td>...</td>\n",
       "      <td>NaN</td>\n",
       "      <td>NaN</td>\n",
       "      <td>NaN</td>\n",
       "      <td>NaN</td>\n",
       "      <td>NaN</td>\n",
       "      <td>NaN</td>\n",
       "      <td>NaN</td>\n",
       "      <td>NaN</td>\n",
       "      <td>NaN</td>\n",
       "      <td>NaN</td>\n",
       "    </tr>\n",
       "    <tr>\n",
       "      <th>1</th>\n",
       "      <td>-1</td>\n",
       "      <td>1</td>\n",
       "      <td>2</td>\n",
       "      <td>5.0</td>\n",
       "      <td>1996</td>\n",
       "      <td>3</td>\n",
       "      <td>21.0</td>\n",
       "      <td>6.0</td>\n",
       "      <td>5.0</td>\n",
       "      <td>3.0</td>\n",
       "      <td>...</td>\n",
       "      <td>9.0</td>\n",
       "      <td>11.0</td>\n",
       "      <td>8.0</td>\n",
       "      <td>1992.0</td>\n",
       "      <td>5.0</td>\n",
       "      <td>1.0</td>\n",
       "      <td>2.0</td>\n",
       "      <td>3.0</td>\n",
       "      <td>1.0</td>\n",
       "      <td>5.0</td>\n",
       "    </tr>\n",
       "    <tr>\n",
       "      <th>2</th>\n",
       "      <td>-1</td>\n",
       "      <td>3</td>\n",
       "      <td>2</td>\n",
       "      <td>3.0</td>\n",
       "      <td>1979</td>\n",
       "      <td>3</td>\n",
       "      <td>3.0</td>\n",
       "      <td>1.0</td>\n",
       "      <td>1.0</td>\n",
       "      <td>1.0</td>\n",
       "      <td>...</td>\n",
       "      <td>9.0</td>\n",
       "      <td>10.0</td>\n",
       "      <td>1.0</td>\n",
       "      <td>1992.0</td>\n",
       "      <td>0.0</td>\n",
       "      <td>3.0</td>\n",
       "      <td>2.0</td>\n",
       "      <td>2.0</td>\n",
       "      <td>1.0</td>\n",
       "      <td>5.0</td>\n",
       "    </tr>\n",
       "    <tr>\n",
       "      <th>3</th>\n",
       "      <td>2</td>\n",
       "      <td>4</td>\n",
       "      <td>2</td>\n",
       "      <td>2.0</td>\n",
       "      <td>1957</td>\n",
       "      <td>2</td>\n",
       "      <td>0.0</td>\n",
       "      <td>0.0</td>\n",
       "      <td>0.0</td>\n",
       "      <td>0.0</td>\n",
       "      <td>...</td>\n",
       "      <td>9.0</td>\n",
       "      <td>1.0</td>\n",
       "      <td>1.0</td>\n",
       "      <td>1997.0</td>\n",
       "      <td>1.0</td>\n",
       "      <td>4.0</td>\n",
       "      <td>0.0</td>\n",
       "      <td>0.0</td>\n",
       "      <td>1.0</td>\n",
       "      <td>3.0</td>\n",
       "    </tr>\n",
       "    <tr>\n",
       "      <th>4</th>\n",
       "      <td>-1</td>\n",
       "      <td>3</td>\n",
       "      <td>1</td>\n",
       "      <td>5.0</td>\n",
       "      <td>1963</td>\n",
       "      <td>3</td>\n",
       "      <td>32.0</td>\n",
       "      <td>10.0</td>\n",
       "      <td>10.0</td>\n",
       "      <td>5.0</td>\n",
       "      <td>...</td>\n",
       "      <td>9.0</td>\n",
       "      <td>3.0</td>\n",
       "      <td>1.0</td>\n",
       "      <td>1992.0</td>\n",
       "      <td>0.0</td>\n",
       "      <td>3.0</td>\n",
       "      <td>3.0</td>\n",
       "      <td>5.0</td>\n",
       "      <td>2.0</td>\n",
       "      <td>6.0</td>\n",
       "    </tr>\n",
       "  </tbody>\n",
       "</table>\n",
       "<p>5 rows × 29 columns</p>\n",
       "</div>"
      ],
      "text/plain": [
       "   AGER_TYP  ALTERSKATEGORIE_GROB  ANREDE_KZ  CJT_GESAMTTYP  GEBURTSJAHR  \\\n",
       "0        -1                     2          1            2.0            0   \n",
       "1        -1                     1          2            5.0         1996   \n",
       "2        -1                     3          2            3.0         1979   \n",
       "3         2                     4          2            2.0         1957   \n",
       "4        -1                     3          1            5.0         1963   \n",
       "\n",
       "   HEALTH_TYP  LP_LEBENSPHASE_FEIN  LP_LEBENSPHASE_GROB  LP_FAMILIE_FEIN  \\\n",
       "0          -1                 15.0                  4.0              2.0   \n",
       "1           3                 21.0                  6.0              5.0   \n",
       "2           3                  3.0                  1.0              1.0   \n",
       "3           2                  0.0                  0.0              0.0   \n",
       "4           3                 32.0                 10.0             10.0   \n",
       "\n",
       "   LP_FAMILIE_GROB     ...       WOHNDAUER_2008  ANZ_HAUSHALTE_AKTIV  \\\n",
       "0              2.0     ...                  NaN                  NaN   \n",
       "1              3.0     ...                  9.0                 11.0   \n",
       "2              1.0     ...                  9.0                 10.0   \n",
       "3              0.0     ...                  9.0                  1.0   \n",
       "4              5.0     ...                  9.0                  3.0   \n",
       "\n",
       "   GEBAEUDETYP  MIN_GEBAEUDEJAHR  KBA05_BAUMAX  KBA05_GBZ  KKK  REGIOTYP  \\\n",
       "0          NaN               NaN           NaN        NaN  NaN       NaN   \n",
       "1          8.0            1992.0           5.0        1.0  2.0       3.0   \n",
       "2          1.0            1992.0           0.0        3.0  2.0       2.0   \n",
       "3          1.0            1997.0           1.0        4.0  0.0       0.0   \n",
       "4          1.0            1992.0           0.0        3.0  3.0       5.0   \n",
       "\n",
       "   PLZ8_BAUMAX  ORTSGR_KLS9  \n",
       "0          NaN          NaN  \n",
       "1          1.0          5.0  \n",
       "2          1.0          5.0  \n",
       "3          1.0          3.0  \n",
       "4          2.0          6.0  \n",
       "\n",
       "[5 rows x 29 columns]"
      ]
     },
     "execution_count": 12,
     "metadata": {},
     "output_type": "execute_result"
    }
   ],
   "source": [
    "azdias[feat_with0['attribute']].head()"
   ]
  },
  {
   "cell_type": "code",
   "execution_count": 13,
   "metadata": {},
   "outputs": [],
   "source": [
    "# Here we replace all the 0's with NaN\n",
    "azdias[feat_with0['attribute']] = azdias[feat_with0['attribute']].replace(to_replace=[0, 0.0], value=np.nan)"
   ]
  },
  {
   "cell_type": "code",
   "execution_count": 14,
   "metadata": {},
   "outputs": [
    {
     "data": {
      "text/html": [
       "<div>\n",
       "<style scoped>\n",
       "    .dataframe tbody tr th:only-of-type {\n",
       "        vertical-align: middle;\n",
       "    }\n",
       "\n",
       "    .dataframe tbody tr th {\n",
       "        vertical-align: top;\n",
       "    }\n",
       "\n",
       "    .dataframe thead th {\n",
       "        text-align: right;\n",
       "    }\n",
       "</style>\n",
       "<table border=\"1\" class=\"dataframe\">\n",
       "  <thead>\n",
       "    <tr style=\"text-align: right;\">\n",
       "      <th></th>\n",
       "      <th>attribute</th>\n",
       "      <th>information_level</th>\n",
       "      <th>type</th>\n",
       "      <th>missing_or_unknown</th>\n",
       "    </tr>\n",
       "  </thead>\n",
       "  <tbody>\n",
       "    <tr>\n",
       "      <th>1</th>\n",
       "      <td>ALTERSKATEGORIE_GROB</td>\n",
       "      <td>person</td>\n",
       "      <td>ordinal</td>\n",
       "      <td>[-1,0,9]</td>\n",
       "    </tr>\n",
       "    <tr>\n",
       "      <th>24</th>\n",
       "      <td>SEMIO_SOZ</td>\n",
       "      <td>person</td>\n",
       "      <td>ordinal</td>\n",
       "      <td>[-1,9]</td>\n",
       "    </tr>\n",
       "    <tr>\n",
       "      <th>25</th>\n",
       "      <td>SEMIO_FAM</td>\n",
       "      <td>person</td>\n",
       "      <td>ordinal</td>\n",
       "      <td>[-1,9]</td>\n",
       "    </tr>\n",
       "    <tr>\n",
       "      <th>26</th>\n",
       "      <td>SEMIO_REL</td>\n",
       "      <td>person</td>\n",
       "      <td>ordinal</td>\n",
       "      <td>[-1,9]</td>\n",
       "    </tr>\n",
       "    <tr>\n",
       "      <th>27</th>\n",
       "      <td>SEMIO_MAT</td>\n",
       "      <td>person</td>\n",
       "      <td>ordinal</td>\n",
       "      <td>[-1,9]</td>\n",
       "    </tr>\n",
       "  </tbody>\n",
       "</table>\n",
       "</div>"
      ],
      "text/plain": [
       "               attribute information_level     type missing_or_unknown\n",
       "1   ALTERSKATEGORIE_GROB            person  ordinal           [-1,0,9]\n",
       "24             SEMIO_SOZ            person  ordinal             [-1,9]\n",
       "25             SEMIO_FAM            person  ordinal             [-1,9]\n",
       "26             SEMIO_REL            person  ordinal             [-1,9]\n",
       "27             SEMIO_MAT            person  ordinal             [-1,9]"
      ]
     },
     "execution_count": 14,
     "metadata": {},
     "output_type": "execute_result"
    }
   ],
   "source": [
    "# Find out the columns with '9'.\n",
    "feat_with9 = feat_info.loc[feat_info['missing_or_unknown'].isin(['[-1,0,9]', '[-1,9]'])]\n",
    "feat_with9.head()"
   ]
  },
  {
   "cell_type": "code",
   "execution_count": 15,
   "metadata": {},
   "outputs": [],
   "source": [
    "# Here we replace all the 9's with NaN\n",
    "azdias[feat_with9['attribute']] = azdias[feat_with9['attribute']].replace(to_replace=[9, 9.0], value=np.nan)"
   ]
  },
  {
   "cell_type": "code",
   "execution_count": 16,
   "metadata": {},
   "outputs": [],
   "source": [
    "# Lastly, we replace all other 'missing' or unknown' value code into numpy NaN value\n",
    "azdias.replace(to_replace=[-1, 'X', 'XX'], value=np.nan, inplace=True)"
   ]
  },
  {
   "cell_type": "code",
   "execution_count": 17,
   "metadata": {},
   "outputs": [
    {
     "name": "stdout",
     "output_type": "stream",
     "text": [
      "The total number of nan after replacement of missing_or_unknown codes is 8373929 \n",
      "\n"
     ]
    }
   ],
   "source": [
    "print(f'The total number of nan after replacement of missing_or_unknown codes is {azdias.isna().sum().sum()}', \"\\n\")"
   ]
  },
  {
   "cell_type": "markdown",
   "metadata": {},
   "source": [
    "#### Step 1.1.2: Assess Missing Data in Each Column\n",
    "\n",
    "There are a few columns that are outliers in terms of the proportion of values that are missing. I use matplotlib's [`hist()`](https://matplotlib.org/api/_as_gen/matplotlib.pyplot.hist.html) function to visualize the distribution of missing value counts to find these columns. While some of these columns might have justifications for keeping or re-encoding the data, for this project I just remove them from the dataframe. "
   ]
  },
  {
   "cell_type": "code",
   "execution_count": 18,
   "metadata": {},
   "outputs": [
    {
     "data": {
      "text/plain": [
       "TITEL_KZ                 99.757636\n",
       "AGER_TYP                 76.955435\n",
       "KK_KUNDENTYP             65.596749\n",
       "KBA05_BAUMAX             53.468668\n",
       "GEBURTSJAHR              44.020282\n",
       "ALTER_HH                 34.813699\n",
       "REGIOTYP                 17.735668\n",
       "KKK                      17.735668\n",
       "W_KEIT_KIND_HH           16.605084\n",
       "KBA05_ANTG4              14.959701\n",
       "KBA05_GBZ                14.959701\n",
       "MOBI_REGIO               14.959701\n",
       "KBA05_ANTG1              14.959701\n",
       "KBA05_ANTG2              14.959701\n",
       "KBA05_ANTG3              14.959701\n",
       "PLZ8_GBZ                 13.073637\n",
       "PLZ8_HHZ                 13.073637\n",
       "PLZ8_BAUMAX              13.073637\n",
       "PLZ8_ANTG4               13.073637\n",
       "PLZ8_ANTG1               13.073637\n",
       "PLZ8_ANTG3               13.073637\n",
       "PLZ8_ANTG2               13.073637\n",
       "SHOPPER_TYP              12.476816\n",
       "VERS_TYP                 12.476816\n",
       "HEALTH_TYP               12.476816\n",
       "NATIONALITAET_KZ         12.153551\n",
       "PRAEGENDE_JUGENDJAHRE    12.136608\n",
       "KBA13_ANZAHL_PKW         11.871354\n",
       "ANZ_HAUSHALTE_AKTIV      11.176913\n",
       "CAMEO_INTL_2015          11.147852\n",
       "                           ...    \n",
       "RETOURTYP_BK_S            0.544646\n",
       "ONLINE_AFFINITAET         0.544646\n",
       "LP_STATUS_FEIN            0.544646\n",
       "LP_STATUS_GROB            0.544646\n",
       "GFK_URLAUBERTYP           0.544646\n",
       "ALTERSKATEGORIE_GROB      0.323264\n",
       "FINANZTYP                 0.000000\n",
       "GREEN_AVANTGARDE          0.000000\n",
       "FINANZ_HAUSBAUER          0.000000\n",
       "FINANZ_UNAUFFAELLIGER     0.000000\n",
       "FINANZ_ANLEGER            0.000000\n",
       "FINANZ_SPARER             0.000000\n",
       "FINANZ_MINIMALIST         0.000000\n",
       "ANREDE_KZ                 0.000000\n",
       "FINANZ_VORSORGER          0.000000\n",
       "SEMIO_FAM                 0.000000\n",
       "SEMIO_SOZ                 0.000000\n",
       "SEMIO_REL                 0.000000\n",
       "SEMIO_MAT                 0.000000\n",
       "SEMIO_VERT                0.000000\n",
       "SEMIO_LUST                0.000000\n",
       "SEMIO_ERL                 0.000000\n",
       "SEMIO_KULT                0.000000\n",
       "SEMIO_RAT                 0.000000\n",
       "SEMIO_KRIT                0.000000\n",
       "SEMIO_DOM                 0.000000\n",
       "SEMIO_KAEM                0.000000\n",
       "SEMIO_PFLICHT             0.000000\n",
       "SEMIO_TRADV               0.000000\n",
       "ZABEOTYP                  0.000000\n",
       "Length: 85, dtype: float64"
      ]
     },
     "execution_count": 18,
     "metadata": {},
     "output_type": "execute_result"
    }
   ],
   "source": [
    "# Here we perform an assessment of how much missing data there is in each column of the\n",
    "# dataset.\n",
    "azdias_column_nan = azdias.isna().mean().sort_values(ascending=False)*100\n",
    "azdias_column_nan"
   ]
  },
  {
   "cell_type": "code",
   "execution_count": 19,
   "metadata": {},
   "outputs": [
    {
     "data": {
      "image/png": "[encoded data removed]",
      "text/plain": [
       "<matplotlib.figure.Figure at 0x7f32e07aab38>"
      ]
     },
     "metadata": {
      "needs_background": "light"
     },
     "output_type": "display_data"
    }
   ],
   "source": [
    "# Histogram of amount of missing data.\n",
    "plt.hist(azdias_column_nan)\n",
    "plt.xticks(np.arange(0,100,10), [str(x) for x in np.arange(0,100,10)])\n",
    "plt.xlabel('% of missing values')\n",
    "plt.ylabel('No. of columns');"
   ]
  },
  {
   "cell_type": "markdown",
   "metadata": {},
   "source": [
    "## Comment:\n",
    "\n",
    "From the histogram, we see that the outliers have more than 20% of missing values. Therefore, we can remove all columns with more than 20% of Nan's."
   ]
  },
  {
   "cell_type": "code",
   "execution_count": 20,
   "metadata": {},
   "outputs": [
    {
     "data": {
      "text/plain": [
       "Index(['TITEL_KZ', 'AGER_TYP', 'KK_KUNDENTYP', 'KBA05_BAUMAX', 'GEBURTSJAHR',\n",
       "       'ALTER_HH'],\n",
       "      dtype='object')"
      ]
     },
     "execution_count": 20,
     "metadata": {},
     "output_type": "execute_result"
    }
   ],
   "source": [
    "# Columns that are removed.\n",
    "removed_columns = azdias_column_nan[azdias_column_nan > 20].index\n",
    "removed_columns"
   ]
  },
  {
   "cell_type": "code",
   "execution_count": 21,
   "metadata": {},
   "outputs": [
    {
     "data": {
      "text/plain": [
       "(891221, 79)"
      ]
     },
     "execution_count": 21,
     "metadata": {},
     "output_type": "execute_result"
    }
   ],
   "source": [
    "# Here drop the columns with more than 20% of missing values\n",
    "azdias.drop(removed_columns, axis=1, inplace=True)\n",
    "azdias.shape"
   ]
  },
  {
   "cell_type": "markdown",
   "metadata": {},
   "source": [
    "#### Discussion 1.1.2: Assess Missing Data in Each Column\n",
    "\n",
    "From our observation of the histogram plots, we removed all columns that have more than 20% of missing values. The columns that were removed are, ['TITEL_KZ', 'AGER_TYP', 'KK_KUNDENTYP', 'KBA05_BAUMAX', 'GEBURTSJAHR',\n",
    "       'ALTER_HH']."
   ]
  },
  {
   "cell_type": "markdown",
   "metadata": {},
   "source": [
    "\n",
    "#### Step 1.1.3: Assess Missing Data in Each Row\n",
    "\n",
    "Now, I'll perform a similar assessment for the rows of the dataset. As with the columns, we divide the data into two subsets: one for data points that are above some threshold for missing values, and a second subset for points below that threshold.\n",
    "\n",
    "In order to know what to do with the outlier rows, we should see if the distribution of data values on columns that are not missing data (or are missing very little data) are similar or different between the two groups. We Select a few columns for this comparison."
   ]
  },
  {
   "cell_type": "code",
   "execution_count": 22,
   "metadata": {},
   "outputs": [],
   "source": [
    "# How much data is missing in each row of the dataset?\n",
    "azdias_row_nan = azdias.isnull().sum(axis=1).sort_values(ascending=False)"
   ]
  },
  {
   "cell_type": "code",
   "execution_count": 23,
   "metadata": {},
   "outputs": [
    {
     "data": {
      "image/png": "[encoded data removed]",
      "text/plain": [
       "<matplotlib.figure.Figure at 0x7f32d2fb9860>"
      ]
     },
     "metadata": {
      "needs_background": "light"
     },
     "output_type": "display_data"
    }
   ],
   "source": [
    "plt.hist(azdias_row_nan)\n",
    "plt.xlabel('No. of missing values')\n",
    "plt.ylabel('No. of rows');"
   ]
  },
  {
   "cell_type": "code",
   "execution_count": 24,
   "metadata": {},
   "outputs": [],
   "source": [
    "# We divide the data into two subsets based on the number of missing values in each row.\n",
    "threshold = 20\n",
    "above_threshold = azdias[azdias.isnull().sum(axis=1) >= threshold]\n",
    "below_threshold = azdias[azdias.isnull().sum(axis=1) < threshold]"
   ]
  },
  {
   "cell_type": "code",
   "execution_count": 25,
   "metadata": {},
   "outputs": [
    {
     "data": {
      "text/plain": [
       "(94144, 797077)"
      ]
     },
     "execution_count": 25,
     "metadata": {},
     "output_type": "execute_result"
    }
   ],
   "source": [
    "len(above_threshold), len(below_threshold)"
   ]
  },
  {
   "cell_type": "code",
   "execution_count": 26,
   "metadata": {},
   "outputs": [
    {
     "data": {
      "text/plain": [
       "Index(['ANREDE_KZ', 'FINANZ_MINIMALIST', 'FINANZ_SPARER', 'FINANZ_VORSORGER',\n",
       "       'FINANZ_ANLEGER', 'FINANZ_UNAUFFAELLIGER', 'FINANZ_HAUSBAUER',\n",
       "       'FINANZTYP', 'GREEN_AVANTGARDE', 'SEMIO_SOZ', 'SEMIO_FAM', 'SEMIO_REL',\n",
       "       'SEMIO_MAT', 'SEMIO_VERT', 'SEMIO_LUST', 'SEMIO_ERL', 'SEMIO_KULT',\n",
       "       'SEMIO_RAT', 'SEMIO_KRIT', 'SEMIO_DOM', 'SEMIO_KAEM', 'SEMIO_PFLICHT',\n",
       "       'SEMIO_TRADV', 'ZABEOTYP'],\n",
       "      dtype='object')"
      ]
     },
     "execution_count": 26,
     "metadata": {},
     "output_type": "execute_result"
    }
   ],
   "source": [
    "# We compare the distribution of values for at least five columns where there are\n",
    "# no or few missing values, between the two subsets.\n",
    "\n",
    "# Here we select columns of above_threshold subsets with zero missing values\n",
    "above_threshold_column_nan = above_threshold.isnull().sum(axis=0)\n",
    "above_threshold_nan_equal0 = above_threshold_column_nan[above_threshold_column_nan == 0].index\n",
    "above_threshold_nan_equal0"
   ]
  },
  {
   "cell_type": "code",
   "execution_count": 27,
   "metadata": {},
   "outputs": [
    {
     "data": {
      "text/plain": [
       "Index(['ANREDE_KZ', 'FINANZ_MINIMALIST', 'FINANZ_SPARER', 'FINANZ_VORSORGER',\n",
       "       'FINANZ_ANLEGER', 'FINANZ_UNAUFFAELLIGER', 'FINANZ_HAUSBAUER',\n",
       "       'FINANZTYP', 'GREEN_AVANTGARDE', 'SEMIO_SOZ', 'SEMIO_FAM', 'SEMIO_REL',\n",
       "       'SEMIO_MAT', 'SEMIO_VERT', 'SEMIO_LUST', 'SEMIO_ERL', 'SEMIO_KULT',\n",
       "       'SEMIO_RAT', 'SEMIO_KRIT', 'SEMIO_DOM', 'SEMIO_KAEM', 'SEMIO_PFLICHT',\n",
       "       'SEMIO_TRADV', 'SOHO_KZ', 'ZABEOTYP', 'ANZ_PERSONEN', 'ANZ_TITEL',\n",
       "       'HH_EINKOMMEN_SCORE', 'WOHNDAUER_2008', 'GEBAEUDETYP',\n",
       "       'MIN_GEBAEUDEJAHR', 'OST_WEST_KZ', 'WOHNLAGE'],\n",
       "      dtype='object')"
      ]
     },
     "execution_count": 27,
     "metadata": {},
     "output_type": "execute_result"
    }
   ],
   "source": [
    "# Here we select columns of above_threshold subsets with zero missing values\n",
    "below_threshold_column_nan = below_threshold.isnull().sum(axis=0)\n",
    "below_threshold_nan_equal0 = below_threshold_column_nan[below_threshold_column_nan == 0].index\n",
    "below_threshold_nan_equal0"
   ]
  },
  {
   "cell_type": "code",
   "execution_count": 28,
   "metadata": {},
   "outputs": [
    {
     "data": {
      "text/plain": [
       "array(['SEMIO_KAEM', 'SEMIO_KULT', 'SEMIO_LUST', 'FINANZ_HAUSBAUER',\n",
       "       'SEMIO_RAT', 'FINANZ_MINIMALIST'], \n",
       "      dtype='<U21')"
      ]
     },
     "execution_count": 28,
     "metadata": {},
     "output_type": "execute_result"
    }
   ],
   "source": [
    "# We pick the first six features that are common to both above and below data with zero's Nan\n",
    "np.random.seed(300)\n",
    "selected_feature = np.random.choice(list(set(above_threshold_nan_equal0) & set(below_threshold_nan_equal0)), size=(6),  replace=False)\n",
    "selected_feature"
   ]
  },
  {
   "cell_type": "code",
   "execution_count": 29,
   "metadata": {},
   "outputs": [
    {
     "data": {
      "image/png": "[encoded data removed]",
      "text/plain": [
       "<matplotlib.figure.Figure at 0x7f32d715cb70>"
      ]
     },
     "metadata": {
      "needs_background": "light"
     },
     "output_type": "display_data"
    }
   ],
   "source": [
    "fig = plt.figure(10, figsize=(12,4))\n",
    "\n",
    "ax1 = fig.add_subplot(121)\n",
    "ax1.title.set_text('Below Threshold')\n",
    "sns.countplot(below_threshold[selected_feature[0]])\n",
    "\n",
    "ax2 = fig.add_subplot(122)\n",
    "ax2.title.set_text('Above Threshold')\n",
    "sns.countplot(above_threshold[selected_feature[0]])\n",
    "\n",
    "\n",
    "fig.suptitle(selected_feature[0]);"
   ]
  },
  {
   "cell_type": "code",
   "execution_count": 30,
   "metadata": {},
   "outputs": [
    {
     "data": {
      "image/png": "[encoded data removed]",
      "text/plain": [
       "<matplotlib.figure.Figure at 0x7f32d70d5860>"
      ]
     },
     "metadata": {
      "needs_background": "light"
     },
     "output_type": "display_data"
    }
   ],
   "source": [
    "fig = plt.figure(10, figsize=(12,4))\n",
    "\n",
    "ax1 = fig.add_subplot(121)\n",
    "ax1.title.set_text('Below Threshold')\n",
    "sns.countplot(below_threshold[selected_feature[1]])\n",
    "\n",
    "ax2 = fig.add_subplot(122)\n",
    "ax2.title.set_text('Above Threshold')\n",
    "sns.countplot(above_threshold[selected_feature[1]])\n",
    "\n",
    "\n",
    "fig.suptitle(selected_feature[1]);"
   ]
  },
  {
   "cell_type": "code",
   "execution_count": 31,
   "metadata": {},
   "outputs": [
    {
     "data": {
      "image/png": "[encoded data removed]",
      "text/plain": [
       "<matplotlib.figure.Figure at 0x7f32d70852e8>"
      ]
     },
     "metadata": {
      "needs_background": "light"
     },
     "output_type": "display_data"
    }
   ],
   "source": [
    "fig = plt.figure(10, figsize=(12,4))\n",
    "\n",
    "ax1 = fig.add_subplot(121)\n",
    "ax1.title.set_text('Below Threshold')\n",
    "sns.countplot(below_threshold[selected_feature[2]])\n",
    "\n",
    "ax2 = fig.add_subplot(122)\n",
    "ax2.title.set_text('Above Threshold')\n",
    "sns.countplot(above_threshold[selected_feature[2]])\n",
    "\n",
    "\n",
    "fig.suptitle(selected_feature[2]);"
   ]
  },
  {
   "cell_type": "code",
   "execution_count": 32,
   "metadata": {},
   "outputs": [
    {
     "data": {
      "image/png": "[encoded data removed]",
      "text/plain": [
       "<matplotlib.figure.Figure at 0x7f32d6f04e10>"
      ]
     },
     "metadata": {
      "needs_background": "light"
     },
     "output_type": "display_data"
    }
   ],
   "source": [
    "fig = plt.figure(10, figsize=(12,4))\n",
    "\n",
    "ax1 = fig.add_subplot(121)\n",
    "ax1.title.set_text('Below Threshold')\n",
    "sns.countplot(below_threshold[selected_feature[3]])\n",
    "\n",
    "ax2 = fig.add_subplot(122)\n",
    "ax2.title.set_text('Above Threshold')\n",
    "sns.countplot(above_threshold[selected_feature[3]])\n",
    "\n",
    "\n",
    "fig.suptitle(selected_feature[3]);"
   ]
  },
  {
   "cell_type": "code",
   "execution_count": 33,
   "metadata": {},
   "outputs": [
    {
     "data": {
      "image/png": "[encoded data removed]",
      "text/plain": [
       "<matplotlib.figure.Figure at 0x7f32d6ed9550>"
      ]
     },
     "metadata": {
      "needs_background": "light"
     },
     "output_type": "display_data"
    }
   ],
   "source": [
    "fig = plt.figure(10, figsize=(12,4))\n",
    "\n",
    "ax1 = fig.add_subplot(121)\n",
    "ax1.title.set_text('Below Threshold')\n",
    "sns.countplot(below_threshold[selected_feature[4]])\n",
    "\n",
    "ax2 = fig.add_subplot(122)\n",
    "ax2.title.set_text('Above Threshold')\n",
    "sns.countplot(above_threshold[selected_feature[4]])\n",
    "\n",
    "\n",
    "fig.suptitle(selected_feature[4]);"
   ]
  },
  {
   "cell_type": "code",
   "execution_count": 34,
   "metadata": {},
   "outputs": [
    {
     "data": {
      "image/png": "[encoded data removed]",
      "text/plain": [
       "<matplotlib.figure.Figure at 0x7f32d6e69e10>"
      ]
     },
     "metadata": {
      "needs_background": "light"
     },
     "output_type": "display_data"
    }
   ],
   "source": [
    "fig = plt.figure(10, figsize=(12,4))\n",
    "\n",
    "ax1 = fig.add_subplot(121)\n",
    "ax1.title.set_text('Below Threshold')\n",
    "sns.countplot(below_threshold[selected_feature[5]])\n",
    "\n",
    "ax2 = fig.add_subplot(122)\n",
    "ax2.title.set_text('Above Threshold')\n",
    "sns.countplot(above_threshold[selected_feature[5]])\n",
    "\n",
    "\n",
    "fig.suptitle(selected_feature[5]);"
   ]
  },
  {
   "cell_type": "code",
   "execution_count": 35,
   "metadata": {},
   "outputs": [],
   "source": [
    "# Now we drop the data above our threshold\n",
    "azdias.drop(above_threshold.index, axis=0, inplace=True)"
   ]
  },
  {
   "cell_type": "code",
   "execution_count": 36,
   "metadata": {},
   "outputs": [
    {
     "data": {
      "text/plain": [
       "(797077, 79)"
      ]
     },
     "execution_count": 36,
     "metadata": {},
     "output_type": "execute_result"
    }
   ],
   "source": [
    "azdias.shape"
   ]
  },
  {
   "cell_type": "markdown",
   "metadata": {},
   "source": [
    "#### Discussion 1.1.3: Assess Missing Data in Each Row\n",
    "\n",
    "From the six plots above, we can observe that the distribution of the data with lots of missing data is qualitatively different from that with few or no missing values. However, we still go ahead and drop these columns."
   ]
  },
  {
   "cell_type": "markdown",
   "metadata": {},
   "source": [
    "### Step 1.2: Select and Re-Encode Features\n",
    "\n",
    "Since the unsupervised learning techniques to be used will only work on data that is encoded numerically, we still need to make a few encoding changes or additional assumptions to be able to make progress. In addition, while almost all of the values in the dataset are encoded using numbers, not all of them represent numeric values. We make the following assumptions\n",
    "\n",
    "- For numeric and interval data, these features can be kept without changes.\n",
    "- Most of the variables in the dataset are ordinal in nature. While ordinal values may technically be non-linear in spacing, we make the simplifying assumption that the ordinal variables can be treated as being interval in nature (that is, kept without any changes).\n",
    "- Special handling may be necessary for the remaining two variable types: categorical, and 'mixed'.\n"
   ]
  },
  {
   "cell_type": "code",
   "execution_count": 37,
   "metadata": {},
   "outputs": [],
   "source": [
    "# We select feat_info dataframe with categorical attributes\n",
    "df_categorical = feat_info.loc[feat_info['type'].isin(['categorical'])]"
   ]
  },
  {
   "cell_type": "code",
   "execution_count": 38,
   "metadata": {},
   "outputs": [],
   "source": [
    "# We select feat_info dataframe with categorical attributes\n",
    "df_mixed = feat_info.loc[feat_info['type'].isin(['mixed'])]"
   ]
  },
  {
   "cell_type": "code",
   "execution_count": 39,
   "metadata": {},
   "outputs": [
    {
     "data": {
      "text/plain": [
       "['AGER_TYP',\n",
       " 'ANREDE_KZ',\n",
       " 'CJT_GESAMTTYP',\n",
       " 'FINANZTYP',\n",
       " 'GFK_URLAUBERTYP',\n",
       " 'GREEN_AVANTGARDE',\n",
       " 'LP_FAMILIE_FEIN',\n",
       " 'LP_FAMILIE_GROB',\n",
       " 'LP_STATUS_FEIN',\n",
       " 'LP_STATUS_GROB',\n",
       " 'NATIONALITAET_KZ',\n",
       " 'SHOPPER_TYP',\n",
       " 'SOHO_KZ',\n",
       " 'TITEL_KZ',\n",
       " 'VERS_TYP',\n",
       " 'ZABEOTYP',\n",
       " 'KK_KUNDENTYP',\n",
       " 'GEBAEUDETYP',\n",
       " 'OST_WEST_KZ',\n",
       " 'CAMEO_DEUG_2015',\n",
       " 'CAMEO_DEU_2015']"
      ]
     },
     "execution_count": 39,
     "metadata": {},
     "output_type": "execute_result"
    }
   ],
   "source": [
    "# We select features with categorical data from feat_info\n",
    "categorical_features = df_categorical['attribute'].tolist()\n",
    "categorical_features"
   ]
  },
  {
   "cell_type": "markdown",
   "metadata": {},
   "source": [
    "#### Step 1.2.1: Re-Encode Categorical Features\n",
    "\n",
    "For categorical data, we would ordinarily need to encode the levels as dummy variables. We perform the following operation:\n",
    "- For binary (two-level) categoricals that take numeric values, we keep them without needing to do anything.\n",
    "- There is one binary variable that takes on non-numeric values. For this one, we re-encode the values as numbers.\n",
    "- For multi-level categoricals (three or more values), we can choose to encode the values using multiple dummy variables (e.g. via [OneHotEncoder](http://scikit-learn.org/stable/modules/generated/sklearn.preprocessing.OneHotEncoder.html)), or (to keep things straightforward) just drop them from the analysis. We document our choice in the next section."
   ]
  },
  {
   "cell_type": "code",
   "execution_count": 40,
   "metadata": {},
   "outputs": [],
   "source": [
    "dropped_categorical = []\n",
    "for label in categorical_features:\n",
    "    try:\n",
    "        if len(azdias[label].dropna().unique()) > 2:\n",
    "            dropped_categorical.append(label)               \n",
    "    except KeyError:\n",
    "        pass"
   ]
  },
  {
   "cell_type": "code",
   "execution_count": 41,
   "metadata": {},
   "outputs": [
    {
     "data": {
      "text/plain": [
       "['CJT_GESAMTTYP',\n",
       " 'FINANZTYP',\n",
       " 'GFK_URLAUBERTYP',\n",
       " 'LP_FAMILIE_FEIN',\n",
       " 'LP_FAMILIE_GROB',\n",
       " 'LP_STATUS_FEIN',\n",
       " 'LP_STATUS_GROB',\n",
       " 'NATIONALITAET_KZ',\n",
       " 'SHOPPER_TYP',\n",
       " 'ZABEOTYP',\n",
       " 'GEBAEUDETYP',\n",
       " 'CAMEO_DEUG_2015',\n",
       " 'CAMEO_DEU_2015']"
      ]
     },
     "execution_count": 41,
     "metadata": {},
     "output_type": "execute_result"
    }
   ],
   "source": [
    "dropped_categorical"
   ]
  },
  {
   "cell_type": "code",
   "execution_count": 42,
   "metadata": {},
   "outputs": [],
   "source": [
    "azdias.drop(dropped_categorical, axis=1, inplace=True)"
   ]
  },
  {
   "cell_type": "code",
   "execution_count": 43,
   "metadata": {},
   "outputs": [],
   "source": [
    "# We re-encode the binary variable that takes on non-numeric values.\n",
    "azdias['OST_WEST_KZ'] = azdias['OST_WEST_KZ'].replace({'W': 0, 'O': 1})"
   ]
  },
  {
   "cell_type": "markdown",
   "metadata": {},
   "source": [
    "#### Discussion 1.2.1: Re-Encode Categorical Features\n",
    "\n",
    "There are 21 categorical features in our data set. Amongst these, there are 13 categorical features that are not binary. For these features, I decided to drop them. They are: ['CJT_GESAMTTYP', 'FINANZTYP', 'GFK_URLAUBERTYP', 'LP_FAMILIE_FEIN', 'LP_FAMILIE_GROB', 'LP_STATUS_FEIN', 'LP_STATUS_GROB', 'NATIONALITAET_KZ', 'SHOPPER_TYP', 'ZABEOTYP', 'GEBAEUDETYP', 'CAMEO_DEUG_2015', 'CAMEO_DEU_2015'].\n",
    "\n",
    "The rationale for dropping them is that some of them have lots of levels, and doing one-hot encoding will further increase the number of features, which is not desirable. I keep the binary categorical variable and recoded the only one non-numeric binary variable we have (OST_WEST_KZ)."
   ]
  },
  {
   "cell_type": "markdown",
   "metadata": {},
   "source": [
    "#### Step 1.2.2: Engineer Mixed-Type Features\n",
    "\n",
    "There are a handful of features that are marked as \"mixed\" in the feature summary that require special treatment in order to be included in the analysis. There are two in particular that deserve attention; \n",
    "\n",
    "- \"PRAEGENDE_JUGENDJAHRE\" combines information on three dimensions: generation by decade, movement (mainstream vs. avantgarde), and nation (east vs. west). While there aren't enough levels to disentangle east from west, we create two new variables to capture the other two dimensions: an interval-type variable for decade, and a binary variable for movement.\n",
    "- \"CAMEO_INTL_2015\" combines information on two axes: wealth and life stage. We break up the two-digit codes by their 'tens'-place and 'ones'-place digits into two new ordinal variables (which, for the purposes of this project, is equivalent to just treating them as their raw numeric values)."
   ]
  },
  {
   "cell_type": "markdown",
   "metadata": {},
   "source": [
    "###  PRAEGENDE_JUGENDJAHRE\n",
    "Dominating movement of person's youth (avantgarde vs. mainstream; east vs. west)\n",
    "- -1: unknown\n",
    "-  0: unknown\n",
    "-  1: 40s - war years (Mainstream, E+W)\n",
    "-  2: 40s - reconstruction years (Avantgarde, E+W)\n",
    "-  3: 50s - economic miracle (Mainstream, E+W)\n",
    "-  4: 50s - milk bar / Individualisation (Avantgarde, E+W)\n",
    "-  5: 60s - economic miracle (Mainstream, E+W)\n",
    "-  6: 60s - generation 68 / student protestors (Avantgarde, W)\n",
    "-  7: 60s - opponents to the building of the Wall (Avantgarde, E)\n",
    "-  8: 70s - family orientation (Mainstream, E+W)\n",
    "-  9: 70s - peace movement (Avantgarde, E+W)\n",
    "- 10: 80s - Generation Golf (Mainstream, W)\n",
    "- 11: 80s - ecological awareness (Avantgarde, W)\n",
    "- 12: 80s - FDJ / communist party youth organisation (Mainstream, E)\n",
    "- 13: 80s - Swords into ploughshares (Avantgarde, E)\n",
    "- 14: 90s - digital media kids (Mainstream, E+W)\n",
    "- 15: 90s - ecological awareness (Avantgarde, E+W)"
   ]
  },
  {
   "cell_type": "code",
   "execution_count": 44,
   "metadata": {},
   "outputs": [],
   "source": [
    "# We Investigate \"PRAEGENDE_JUGENDJAHRE\" and engineer two new variables.\n",
    "decade = {1: 40, 2: 40, 3: 50, 4: 50, 5: 60, 6: 60, 7: 60,\n",
    "          8: 70, 9: 70, 10: 80, 11: 80, 12: 80, 13: 80,\n",
    "          14: 90, 15: 90, np.nan: np.nan}\n",
    "azdias['DECADE'] = azdias['PRAEGENDE_JUGENDJAHRE'].map(decade)\n",
    "\n",
    "movement = {1: 1, 2: 0, 3: 1, 4: 0, 5: 1, 6: 0,\n",
    "            7: 0, 8: 1, 9: 0, 10: 1, 11: 0, 12: 1,\n",
    "            13: 0, 14: 1, 15: 0, np.nan: np.nan}\n",
    "azdias['MOVEMENT'] = azdias['PRAEGENDE_JUGENDJAHRE'].map(movement)\n"
   ]
  },
  {
   "cell_type": "markdown",
   "metadata": {},
   "source": [
    "### CAMEO_INTL_2015\n",
    "German CAMEO: Wealth / Life Stage Typology, mapped to international code\n",
    "- -1: unknown\n",
    "- 11: Wealthy Households - Pre-Family Couples & Singles\n",
    "- 12: Wealthy Households - Young Couples With Children\n",
    "- 13: Wealthy Households - Families With School Age Children\n",
    "- 14: Wealthy Households - Older Families &  Mature Couples\n",
    "- 15: Wealthy Households - Elders In Retirement\n",
    "- 21: Prosperous Households - Pre-Family Couples & Singles\n",
    "- 22: Prosperous Households - Young Couples With Children\n",
    "- 23: Prosperous Households - Families With School Age Children\n",
    "- 24: Prosperous Households - Older Families & Mature Couples\n",
    "- 25: Prosperous Households - Elders In Retirement\n",
    "- 31: Comfortable Households - Pre-Family Couples & Singles\n",
    "- 32: Comfortable Households - Young Couples With Children\n",
    "- 33: Comfortable Households - Families With School Age Children\n",
    "- 34: Comfortable Households - Older Families & Mature Couples\n",
    "- 35: Comfortable Households - Elders In Retirement\n",
    "- 41: Less Affluent Households - Pre-Family Couples & Singles\n",
    "- 42: Less Affluent Households - Young Couples With Children\n",
    "- 43: Less Affluent Households - Families With School Age Children\n",
    "- 44: Less Affluent Households - Older Families & Mature Couples\n",
    "- 45: Less Affluent Households - Elders In Retirement\n",
    "- 51: Poorer Households - Pre-Family Couples & Singles\n",
    "- 52: Poorer Households - Young Couples With Children\n",
    "- 53: Poorer Households - Families With School Age Children\n",
    "- 54: Poorer Households - Older Families & Mature Couples\n",
    "- 55: Poorer Households - Elders In Retirement\n",
    "- XX: unknown"
   ]
  },
  {
   "cell_type": "code",
   "execution_count": 45,
   "metadata": {},
   "outputs": [],
   "source": [
    "# Investigate \"CAMEO_INTL_2015\" and engineer two new variables\n",
    "wealth = {'11': 1, '12': 1, '13': 1, '14': 1, '15': 1,\n",
    "         '21': 2, '22': 2, '23': 2, '24': 2, '25': 2,\n",
    "         '31': 3, '32': 3, '33': 3, '34': 3, '35': 3,\n",
    "         '41': 4, '42': 4, '43': 4, '44': 4, '45': 4,\n",
    "         '51': 5, '52': 5, '53': 5, '54': 5, '55': 5, np.nan: np.nan}\n",
    "\n",
    "azdias['WEALTH'] = azdias['CAMEO_INTL_2015'].map(wealth)\n",
    "\n",
    "\n",
    "lifestage = {'11': 1, '12': 2, '13': 3, '14': 4, '15': 5,\n",
    "             '21': 1, '22': 2, '23': 3, '24': 4, '25': 5,\n",
    "             '31': 1, '32': 2, '33': 3, '34': 4, '35': 5,\n",
    "             '41': 1, '42': 2, '43': 3, '44': 4, '45': 5,\n",
    "             '51': 1, '52': 2, '53': 3, '54': 4, '55': 5, np.nan: np.nan}\n",
    "\n",
    "azdias['LIFESTAGE'] = azdias['CAMEO_INTL_2015'].map(lifestage)\n"
   ]
  },
  {
   "cell_type": "code",
   "execution_count": 46,
   "metadata": {},
   "outputs": [],
   "source": [
    "azdias.drop(['PRAEGENDE_JUGENDJAHRE','CAMEO_INTL_2015'], axis=1, inplace=True)"
   ]
  },
  {
   "cell_type": "code",
   "execution_count": 47,
   "metadata": {},
   "outputs": [
    {
     "data": {
      "text/plain": [
       "['LP_LEBENSPHASE_FEIN',\n",
       " 'LP_LEBENSPHASE_GROB',\n",
       " 'PRAEGENDE_JUGENDJAHRE',\n",
       " 'WOHNLAGE',\n",
       " 'CAMEO_INTL_2015',\n",
       " 'KBA05_BAUMAX',\n",
       " 'PLZ8_BAUMAX']"
      ]
     },
     "execution_count": 47,
     "metadata": {},
     "output_type": "execute_result"
    }
   ],
   "source": [
    "# We select features with mixed data from feat_info\n",
    "mixed_features = df_mixed['attribute'].tolist()\n",
    "mixed_features"
   ]
  },
  {
   "cell_type": "code",
   "execution_count": 48,
   "metadata": {},
   "outputs": [
    {
     "name": "stdout",
     "output_type": "stream",
     "text": [
      "1.0     58718\n",
      "5.0     52399\n",
      "6.0     43324\n",
      "2.0     37146\n",
      "8.0     28831\n",
      "11.0    25356\n",
      "7.0     24947\n",
      "29.0    24879\n",
      "13.0    24810\n",
      "10.0    24458\n",
      "31.0    22260\n",
      "12.0    22214\n",
      "30.0    21145\n",
      "15.0    18963\n",
      "3.0     18752\n",
      "19.0    18575\n",
      "37.0    17500\n",
      "4.0     16477\n",
      "14.0    16350\n",
      "20.0    16285\n",
      "32.0    15761\n",
      "39.0    15131\n",
      "40.0    14108\n",
      "27.0    13795\n",
      "16.0    13632\n",
      "38.0    13088\n",
      "35.0    13011\n",
      "34.0    12421\n",
      "9.0     12109\n",
      "21.0    11965\n",
      "28.0    11543\n",
      "24.0    11308\n",
      "25.0     9843\n",
      "36.0     9654\n",
      "23.0     8624\n",
      "22.0     6830\n",
      "18.0     6802\n",
      "33.0     5722\n",
      "17.0     5486\n",
      "26.0     3368\n",
      "Name: LP_LEBENSPHASE_FEIN, dtype: int64 \n",
      "\n",
      "2.0     149501\n",
      "1.0     131093\n",
      "3.0     109528\n",
      "12.0     69481\n",
      "4.0      51172\n",
      "5.0      47148\n",
      "9.0      46024\n",
      "10.0     38021\n",
      "11.0     31154\n",
      "8.0      28706\n",
      "6.0      27419\n",
      "7.0      21151\n",
      "Name: LP_LEBENSPHASE_GROB, dtype: int64 \n",
      "\n",
      "3.0    249537\n",
      "7.0    169238\n",
      "4.0    135867\n",
      "2.0    100303\n",
      "5.0     74274\n",
      "1.0     43876\n",
      "8.0     17356\n",
      "0.0      6626\n",
      "Name: WOHNLAGE, dtype: int64 \n",
      "\n",
      "1.0    499540\n",
      "5.0     97333\n",
      "2.0     70406\n",
      "4.0     56684\n",
      "3.0     50732\n",
      "Name: PLZ8_BAUMAX, dtype: int64 \n",
      "\n"
     ]
    }
   ],
   "source": [
    "for label in mixed_features:\n",
    "    try:\n",
    "        print(azdias[label].value_counts(), '\\n')\n",
    "    except KeyError:\n",
    "        pass"
   ]
  },
  {
   "cell_type": "code",
   "execution_count": 49,
   "metadata": {},
   "outputs": [],
   "source": [
    "dropped_mixed = ['LP_LEBENSPHASE_FEIN', 'LP_LEBENSPHASE_GROB', 'WOHNLAGE']\n",
    "azdias.drop(dropped_mixed, axis=1, inplace=True)"
   ]
  },
  {
   "cell_type": "markdown",
   "metadata": {},
   "source": [
    "#### Discussion 1.2.2: Engineer Mixed-Type Features\n",
    "\n",
    "We have 7 mixed feature in pour data frame: \n",
    "\n",
    "['LP_LEBENSPHASE_FEIN',\n",
    " 'LP_LEBENSPHASE_GROB',\n",
    " 'PRAEGENDE_JUGENDJAHRE',\n",
    " 'WOHNLAGE',\n",
    " 'CAMEO_INTL_2015',\n",
    " 'KBA05_BAUMAX',\n",
    " 'PLZ8_BAUMAX']\n",
    " \n",
    "We re-code the two features 'CAMEO_INTL_2015' and 'PRAEGENDE_JUGENDJAHRE' into two new variables each, and then dropped the original columns from the dataframe. 'CAMEO_INTL_2015' was recoded into 'LIFESTAGE' AND 'WEALTH' features, while 'PRAEGENDE_JUGENDJAHRE' was split into 'DECADE' and 'MOVEMENT'.\n",
    "\n",
    "We decide to drop the following features:\n",
    "\n",
    "* 'LP_LEBENSPHASE_FEIN': this has 40 levels, and doing one-hot encoding will populate the number of features.\n",
    "* 'LP_LEBENSPHASE_GROB': this could have been re-enginneered based on income and earning level. However, we have a category named just 'single parent', with no other information about their income level, earning level, thereby making re-encoding difficult. For these reason, I decide to drop this feature.\n",
    "* 'WOHNLAGE' this is another feature that could have stayed, but we have a catgory '0' described as 'no score calculated'. I do not know what level to place it. Is it higher than 'very good neighborhood' or lower than 'new building in rural neighborhood'. This ambiguity made me decide to also drop it.\n",
    "\n",
    "\n",
    "We decide to keep 'KBA05_BAUMAX' and 'PLZ8_BAUMAX' as these features are well encoded and scaled."
   ]
  },
  {
   "cell_type": "markdown",
   "metadata": {},
   "source": [
    "#### Step 1.2.3: Complete Feature Selection\n",
    "\n",
    "In order to finish this step up, we need to make sure that our data frame now only has the columns that you want to keep. To summarize, the dataframe should consist of the following:\n",
    "- All numeric, interval, and ordinal type columns from the original dataset.\n",
    "- Binary categorical features (all numerically-encoded).\n",
    "- Engineered features from other multi-level categorical features and mixed features."
   ]
  },
  {
   "cell_type": "markdown",
   "metadata": {},
   "source": [
    "### Step 1.3: Create a Cleaning Function\n",
    "\n",
    "Even though we've finished cleaning up the general population demographics data, it's important to look ahead to the future and realize that we'll need to perform the same cleaning steps on the customer demographics data. In this substep, we write a function to execute the main feature selection, encoding, and re-engineering steps we performed above. Then, when it comes to looking at the customer data in Step 3, we can just run this function on that DataFrame to get the trimmed dataset in a single step."
   ]
  },
  {
   "cell_type": "code",
   "execution_count": 102,
   "metadata": {},
   "outputs": [],
   "source": [
    "def clean_data(df, df_feat):\n",
    "    \"\"\"\n",
    "    Perform feature trimming, re-encoding, and engineering for demographics\n",
    "    data\n",
    "    \n",
    "    INPUT: Demographics DataFrame\n",
    "    OUTPUT: Trimmed and cleaned demographics DataFrame\n",
    "    \"\"\"\n",
    "    \n",
    "    \n",
    "    # Find out the columns with '0'.\n",
    "    attribute_0 = df_feat.loc[df_feat['missing_or_unknown'].isin(['[-1,0]', '[0]', '[-1,0,9]'])]\n",
    "    \n",
    "    # Here we replace all the 0's with NaN\n",
    "    df[attribute_0['attribute']] = df[attribute_0['attribute']].replace(to_replace=[0, 0.0], value=np.nan)\n",
    "    \n",
    "    # Find out the columns with '9'.\n",
    "    attribute_9 = df_feat.loc[df_feat['missing_or_unknown'].isin(['[-1,0,9]', '[-1,9]'])]\n",
    "    \n",
    "    # Here we replace all the 9's with NaN\n",
    "    df[attribute_9['attribute']] = df[attribute_9['attribute']].replace(to_replace=[9, 9.0], value=np.nan)\n",
    "    \n",
    "    # Here we replace -1, X and XX in the whole data set\n",
    "    df.replace(to_replace=[-1, 'X', 'XX'], value=np.nan, inplace=True)\n",
    "    \n",
    "    # We remove columns that were removed in the general population dataset\n",
    "    df.drop(removed_columns, axis=1, inplace=True)\n",
    "    \n",
    "    # Now we drop the data above our threshold\n",
    "    threshold = 20\n",
    "    above_threshold = azdias[azdias.isnull().sum(axis=1) >= threshold]\n",
    "    df.drop(above_threshold.index, axis=0, inplace=True)\n",
    "    \n",
    "    # We drop the categorical features that have non-binary categories.   \n",
    "    df.drop(dropped_categorical, axis=1, inplace=True)\n",
    "    \n",
    "    # We recode the non-numeric binary categorical variable.\n",
    "    df['OST_WEST_KZ'] = df['OST_WEST_KZ'].replace({'W': 0, 'O': 1})\n",
    "\n",
    "    # We investigate \"PRAEGENDE_JUGENDJAHRE\" and engineer two new variables.\n",
    "    df['DECADE'] = df['PRAEGENDE_JUGENDJAHRE'].map(decade)\n",
    "    df['MOVEMENT'] = df['PRAEGENDE_JUGENDJAHRE'].map(movement)\n",
    "    \n",
    "    \n",
    "    # Investigate \"CAMEO_INTL_2015\" and engineer two new variables\n",
    "    df['WEALTH'] = df['CAMEO_INTL_2015'].map(wealth)\n",
    "    df['LIFESTAGE'] = df['CAMEO_INTL_2015'].map(lifestage)\n",
    "    \n",
    "    # We drop the original columns of 'PRAEGENDE_JUGENDJAHRE' and 'CAMEO_INTL_2015' from df.\n",
    "    df.drop(['PRAEGENDE_JUGENDJAHRE','CAMEO_INTL_2015'], axis=1, inplace=True)\n",
    "    \n",
    "    # We also here drop the folllowing mixed features\n",
    "    dropped_mixed = ['LP_LEBENSPHASE_FEIN', 'LP_LEBENSPHASE_GROB', 'WOHNLAGE']\n",
    "    df.drop(dropped_mixed, axis=1, inplace=True)\n",
    "    \n",
    "    return df    "
   ]
  },
  {
   "cell_type": "markdown",
   "metadata": {},
   "source": [
    "## Step 2: Feature Transformation\n",
    "\n",
    "### Step 2.1: Apply Feature Scaling\n",
    "\n",
    "Before we apply dimensionality reduction techniques to the data, we need to perform feature scaling so that the principal component vectors are not influenced by the natural differences in scale for features. In this substep, you'll need to check the following:\n",
    "\n",
    "- sklearn requires that data not have missing values in order for its estimators to work properly. So, before applying the scaler to your data, we make sure that we've cleaned the DataFrame of the remaining missing values. This can be as simple as just removing all data points with missing data, or applying an [Imputer](https://scikit-learn.org/0.16/modules/generated/sklearn.preprocessing.Imputer.html) to replace all missing values. \n",
    "- For the actual scaling function, we use [StandardScaler](http://scikit-learn.org/stable/modules/generated/sklearn.preprocessing.StandardScaler.html), scaling each feature to mean 0 and standard deviation 1."
   ]
  },
  {
   "cell_type": "code",
   "execution_count": 51,
   "metadata": {},
   "outputs": [
    {
     "name": "stdout",
     "output_type": "stream",
     "text": [
      "There is a total of 768378 naturally missing values in the entire dataset. \n",
      "\n"
     ]
    }
   ],
   "source": [
    "# We check for how many Nan we now have in our dataframe.\n",
    "print(f'There is a total of {azdias.isna().sum().sum()} naturally missing values in the entire dataset.', \"\\n\")\n"
   ]
  },
  {
   "cell_type": "code",
   "execution_count": 52,
   "metadata": {},
   "outputs": [],
   "source": [
    "imputer = Imputer(missing_values = np.nan,\n",
    "                        strategy ='mean')\n",
    "numpy_values = imputer.fit_transform(azdias)\n",
    "azdias = pd.DataFrame(numpy_values, columns=azdias.columns)"
   ]
  },
  {
   "cell_type": "code",
   "execution_count": 53,
   "metadata": {},
   "outputs": [
    {
     "name": "stdout",
     "output_type": "stream",
     "text": [
      "There is a total of 0 missing values in the entire dataset. \n",
      "\n"
     ]
    }
   ],
   "source": [
    "print(f'There is a total of {azdias.isna().sum().sum()} missing values in the entire dataset.', \"\\n\")"
   ]
  },
  {
   "cell_type": "code",
   "execution_count": 54,
   "metadata": {},
   "outputs": [],
   "source": [
    "# We apply feature scaling to the general population data set.\n",
    "scaler = StandardScaler()\n",
    "X = scaler.fit_transform(azdias)\n",
    "azdias = pd.DataFrame(X, columns=azdias.columns)"
   ]
  },
  {
   "cell_type": "markdown",
   "metadata": {},
   "source": [
    "### Discussion 2.1: Apply Feature Scaling\n",
    "\n",
    "We have replaced the Nan values with the mean across each column using the imputer instance. With this step, we show that there are no more missing values in our dataframe.\n",
    "\n",
    "We also use StandardScaler instance to scale each feature to mean 0 and standard deviation 1."
   ]
  },
  {
   "cell_type": "markdown",
   "metadata": {},
   "source": [
    "### Step 2.2: Perform Dimensionality Reduction\n",
    "\n",
    "On our scaled data, we are now ready to apply dimensionality reduction techniques.\n",
    "\n",
    "- We use sklearn's [PCA](http://scikit-learn.org/stable/modules/generated/sklearn.decomposition.PCA.html) class to apply principal component analysis on the data, thus finding the vectors of maximal variance in the data. \n",
    "- We check out the ratio of variance explained by each principal component as well as the cumulative variance explained by plotting the cumulative or sequential values using matplotlib's [`plot()`](https://matplotlib.org/api/_as_gen/matplotlib.pyplot.plot.html) function. Based on the plot, we select a value for the number of transformed features we'll retain for the clustering part of the project."
   ]
  },
  {
   "cell_type": "code",
   "execution_count": 55,
   "metadata": {},
   "outputs": [],
   "source": [
    "# Apply PCA to the scaled data.\n",
    "n_components = azdias.shape[1]//2\n",
    "pca = PCA(n_components)\n",
    "X_pca = pca.fit_transform(azdias)"
   ]
  },
  {
   "cell_type": "code",
   "execution_count": 56,
   "metadata": {},
   "outputs": [
    {
     "data": {
      "image/png": "[encoded data removed]",
      "text/plain": [
       "<matplotlib.figure.Figure at 0x7f32d6c564e0>"
      ]
     },
     "metadata": {
      "needs_background": "light"
     },
     "output_type": "display_data"
    }
   ],
   "source": [
    "# Investigate the variance accounted for by each principal component.\n",
    "components = np.arange(n_components)\n",
    "variance = pca.explained_variance_ratio_\n",
    "ax = plt.figure(figsize=(15, 6))\n",
    "plt.bar(components, variance)\n",
    "plt.xlabel(\"Principal Components\")\n",
    "plt.ylabel('Explained variance in %')\n",
    "plt.title('Explained Variance Per Principal Component')\n",
    "for i in range(len(variance)):\n",
    "        plt.annotate(r\"%s%%\" % ((str(variance[i]*100)[:4])), (components[i]+0.2, variance[i]), va=\"bottom\", ha=\"center\", fontsize=8)"
   ]
  },
  {
   "cell_type": "code",
   "execution_count": 57,
   "metadata": {},
   "outputs": [
    {
     "data": {
      "text/plain": [
       "Text(0.5,1,'Cumulative Explained Variance Per Principal Component')"
      ]
     },
     "execution_count": 57,
     "metadata": {},
     "output_type": "execute_result"
    },
    {
     "data": {
      "image/png": "[encoded data removed]",
      "text/plain": [
       "<matplotlib.figure.Figure at 0x7f32d6c3c400>"
      ]
     },
     "metadata": {
      "needs_background": "light"
     },
     "output_type": "display_data"
    }
   ],
   "source": [
    "# Investigate the variance accounted for by each principal component.\n",
    "cum_vals = np.cumsum(variance)\n",
    "plt.plot(components, cum_vals)\n",
    "plt.xlabel(\"Principal Components\")\n",
    "plt.ylabel('Cumulative Explained variance in %')\n",
    "plt.title('Cumulative Explained Variance Per Principal Component')"
   ]
  },
  {
   "cell_type": "code",
   "execution_count": 58,
   "metadata": {},
   "outputs": [
    {
     "name": "stdout",
     "output_type": "stream",
     "text": [
      "The least number of components with greater than 80% explained variance is: [22]\n"
     ]
    }
   ],
   "source": [
    "print('The least number of components with greater than 80% explained variance is:', np.argwhere(cum_vals > 0.8)[0] + 1)"
   ]
  },
  {
   "cell_type": "code",
   "execution_count": 59,
   "metadata": {},
   "outputs": [],
   "source": [
    "# Re-apply PCA to the data while selecting for number of components to retain.\n",
    "pca = PCA(22)\n",
    "X_pca = pca.fit_transform(X)\n"
   ]
  },
  {
   "cell_type": "code",
   "execution_count": 60,
   "metadata": {},
   "outputs": [],
   "source": [
    "weights = pca.components_"
   ]
  },
  {
   "cell_type": "markdown",
   "metadata": {},
   "source": [
    "### Discussion 2.2: Perform Dimensionality Reduction\n",
    "\n",
    "We perform dimensionality reduction on our scaled data. The findings show that to explain at least 80% of cumulative variance in the original data set, we need to just have 22 components. Therefore, we retain just 22 components out of the original 65 components. \n"
   ]
  },
  {
   "cell_type": "markdown",
   "metadata": {},
   "source": [
    "### Step 2.3: Interpret Principal Components\n",
    "\n",
    "Now that we have our transformed principal components, it's a nice idea to check out the weight of each variable on the first few components to see if they can be interpreted in some fashion.\n",
    "\n",
    "Each principal component is a unit vector that points in the direction of highest variance (after accounting for the variance captured by earlier principal components). The further a weight is from zero, the more the principal component is in the direction of the corresponding feature. \n",
    "\n",
    "- To investigate the features, we map each weight to their corresponding feature name, then sort the features according to weight. The most interesting features for each principal component, then, will be those at the beginning and end of the sorted list. \n",
    "- We investigate and interpret feature associations from the first three principal components in this substep. To help facilitate this, we write a function that we can call at any time to print the sorted list of feature weights, for the *i*-th principal component. "
   ]
  },
  {
   "cell_type": "code",
   "execution_count": 62,
   "metadata": {},
   "outputs": [
    {
     "name": "stdout",
     "output_type": "stream",
     "text": [
      "The features for the first principal component sorted by weight is: \n",
      "\n",
      " ['MOBI_REGIO', 'PLZ8_ANTG1', 'KBA05_ANTG1', 'KBA05_GBZ', 'FINANZ_MINIMALIST', 'PLZ8_GBZ', 'KONSUMNAEHE', 'INNENSTADT', 'BALLRAUM', 'LIFESTAGE', 'GEBAEUDETYP_RASTER', 'GREEN_AVANTGARDE', 'ALTERSKATEGORIE_GROB', 'FINANZ_VORSORGER', 'KBA13_ANZAHL_PKW', 'ANZ_PERSONEN', 'SEMIO_ERL', 'SEMIO_LUST', 'ONLINE_AFFINITAET', 'WOHNDAUER_2008', 'MIN_GEBAEUDEJAHR', 'SEMIO_VERT', 'RETOURTYP_BK_S', 'ANZ_TITEL', 'SOHO_KZ', 'KBA05_ANTG2', 'SEMIO_KRIT', 'ANREDE_KZ', 'SEMIO_DOM', 'HEALTH_TYP', 'VERS_TYP', 'ANZ_HH_TITEL', 'SEMIO_SOZ', 'PLZ8_HHZ', 'KKK', 'SEMIO_KAEM', 'W_KEIT_KIND_HH', 'FINANZ_ANLEGER', 'FINANZ_UNAUFFAELLIGER', 'OST_WEST_KZ', 'SEMIO_KULT', 'SEMIO_MAT', 'SEMIO_FAM', 'SEMIO_TRADV', 'REGIOTYP', 'SEMIO_RAT', 'DECADE', 'SEMIO_REL', 'SEMIO_PFLICHT', 'MOVEMENT', 'FINANZ_SPARER', 'KBA05_ANTG3', 'RELAT_AB', 'ANZ_HAUSHALTE_AKTIV', 'ARBEIT', 'KBA05_ANTG4', 'PLZ8_ANTG2', 'FINANZ_HAUSBAUER', 'EWDICHTE', 'HH_EINKOMMEN_SCORE', 'ORTSGR_KLS9', 'WEALTH', 'PLZ8_BAUMAX', 'PLZ8_ANTG4', 'PLZ8_ANTG3']\n"
     ]
    }
   ],
   "source": [
    "# We map weights for the first principal component to corresponding feature names\n",
    "# and then print the linked values, sorted by weight.\n",
    "def sort_components(weights, df):\n",
    "    columns = df.columns\n",
    "    dict1 = {column: weight for column, weight in zip(columns, weights)}\n",
    "    sorted_dict =  {column: weight for column, weight in sorted(dict1.items(), key=lambda item: item[1])}\n",
    "    return sorted_dict\n",
    "    \n",
    "    \n",
    "sorted_dict1 = sort_components(weights[0,:], azdias)\n",
    "print('The features for the first principal component sorted by weight is: \\n\\n', list(sorted_dict1.keys()))"
   ]
  },
  {
   "cell_type": "code",
   "execution_count": 63,
   "metadata": {},
   "outputs": [
    {
     "name": "stdout",
     "output_type": "stream",
     "text": [
      "The features for the second principal component sorted by weight is: \n",
      "\n",
      " ['SEMIO_REL', 'DECADE', 'FINANZ_SPARER', 'SEMIO_TRADV', 'SEMIO_PFLICHT', 'FINANZ_UNAUFFAELLIGER', 'SEMIO_KULT', 'FINANZ_ANLEGER', 'SEMIO_FAM', 'SEMIO_RAT', 'SEMIO_MAT', 'ONLINE_AFFINITAET', 'SEMIO_SOZ', 'PLZ8_ANTG1', 'KBA05_GBZ', 'MOBI_REGIO', 'SEMIO_VERT', 'HEALTH_TYP', 'INNENSTADT', 'PLZ8_GBZ', 'KBA05_ANTG1', 'KONSUMNAEHE', 'ANZ_PERSONEN', 'BALLRAUM', 'MIN_GEBAEUDEJAHR', 'GEBAEUDETYP_RASTER', 'KBA13_ANZAHL_PKW', 'KBA05_ANTG2', 'GREEN_AVANTGARDE', 'SOHO_KZ', 'KKK', 'MOVEMENT', 'ANZ_TITEL', 'PLZ8_HHZ', 'LIFESTAGE', 'REGIOTYP', 'OST_WEST_KZ', 'ANZ_HH_TITEL', 'KBA05_ANTG3', 'VERS_TYP', 'HH_EINKOMMEN_SCORE', 'PLZ8_ANTG2', 'ANZ_HAUSHALTE_AKTIV', 'RELAT_AB', 'ARBEIT', 'KBA05_ANTG4', 'WEALTH', 'WOHNDAUER_2008', 'PLZ8_BAUMAX', 'SEMIO_DOM', 'PLZ8_ANTG4', 'ORTSGR_KLS9', 'PLZ8_ANTG3', 'EWDICHTE', 'ANREDE_KZ', 'FINANZ_MINIMALIST', 'FINANZ_HAUSBAUER', 'SEMIO_KAEM', 'SEMIO_KRIT', 'W_KEIT_KIND_HH', 'RETOURTYP_BK_S', 'SEMIO_LUST', 'SEMIO_ERL', 'FINANZ_VORSORGER', 'ALTERSKATEGORIE_GROB']\n"
     ]
    }
   ],
   "source": [
    "# Map weights for the second principal component to corresponding feature names\n",
    "# and then print the linked values, sorted by weight.\n",
    "sorted_dict2 = sort_components(weights[1,:], azdias)\n",
    "print('The features for the second principal component sorted by weight is: \\n\\n', list(sorted_dict2.keys()))\n"
   ]
  },
  {
   "cell_type": "code",
   "execution_count": 64,
   "metadata": {},
   "outputs": [
    {
     "name": "stdout",
     "output_type": "stream",
     "text": [
      "The features for the third principal component sorted by weight is: \n",
      "\n",
      " ['ANREDE_KZ', 'SEMIO_KAEM', 'SEMIO_DOM', 'SEMIO_KRIT', 'SEMIO_RAT', 'FINANZ_ANLEGER', 'SEMIO_ERL', 'DECADE', 'FINANZ_SPARER', 'FINANZ_UNAUFFAELLIGER', 'SEMIO_PFLICHT', 'SEMIO_TRADV', 'ONLINE_AFFINITAET', 'MOVEMENT', 'FINANZ_HAUSBAUER', 'PLZ8_ANTG1', 'INNENSTADT', 'PLZ8_GBZ', 'KONSUMNAEHE', 'BALLRAUM', 'GEBAEUDETYP_RASTER', 'HH_EINKOMMEN_SCORE', 'HEALTH_TYP', 'MOBI_REGIO', 'KBA13_ANZAHL_PKW', 'KBA05_GBZ', 'KBA05_ANTG1', 'MIN_GEBAEUDEJAHR', 'KKK', 'KBA05_ANTG2', 'REGIOTYP', 'LIFESTAGE', 'ANZ_PERSONEN', 'SOHO_KZ', 'PLZ8_HHZ', 'KBA05_ANTG3', 'ANZ_TITEL', 'VERS_TYP', 'ANZ_HH_TITEL', 'OST_WEST_KZ', 'WEALTH', 'ANZ_HAUSHALTE_AKTIV', 'KBA05_ANTG4', 'PLZ8_ANTG2', 'RELAT_AB', 'ARBEIT', 'WOHNDAUER_2008', 'PLZ8_ANTG3', 'EWDICHTE', 'PLZ8_ANTG4', 'ORTSGR_KLS9', 'PLZ8_BAUMAX', 'GREEN_AVANTGARDE', 'SEMIO_MAT', 'SEMIO_LUST', 'SEMIO_REL', 'ALTERSKATEGORIE_GROB', 'W_KEIT_KIND_HH', 'FINANZ_VORSORGER', 'RETOURTYP_BK_S', 'FINANZ_MINIMALIST', 'SEMIO_KULT', 'SEMIO_FAM', 'SEMIO_SOZ', 'SEMIO_VERT']\n"
     ]
    }
   ],
   "source": [
    "# Map weights for the third principal component to corresponding feature names\n",
    "# and then print the linked values, sorted by weight.\n",
    "sorted_dict3 = sort_components(weights[2,:], azdias)\n",
    "print('The features for the third principal component sorted by weight is: \\n\\n', list(sorted_dict3.keys()))"
   ]
  },
  {
   "cell_type": "markdown",
   "metadata": {},
   "source": [
    "## Step 3: Clustering\n",
    "\n",
    "### Step 3.1: Apply Clustering to General Population\n",
    "\n",
    "We've assessed and cleaned the demographics data, then scaled and transformed them. Now, it's time to see how the data clusters in the principal components space. In this substep, we apply k-means clustering to the dataset and use the average within-cluster distances from each point to their assigned cluster's centroid to decide on a number of clusters to keep.\n",
    "\n",
    "- We use sklearn's [KMeans](http://scikit-learn.org/stable/modules/generated/sklearn.cluster.KMeans.html#sklearn.cluster.KMeans) class to perform k-means clustering on the PCA-transformed data.\n",
    "- Then, compute the average difference from each point to its assigned cluster's center. \n",
    "- Perform the above two steps for a number of different cluster counts to see how the average distance decreases with an increasing number of clusters. We use this fact to select a final number of clusters in which to group the data. "
   ]
  },
  {
   "cell_type": "code",
   "execution_count": 65,
   "metadata": {},
   "outputs": [],
   "source": [
    "# Run k-means clustering over a different number of cluster counts and compute average within-cluster distances.\n",
    "\n",
    "scores = []\n",
    "n = 28\n",
    "for centroid in range(1,n,2):\n",
    "    kmeans = KMeans(centroid)\n",
    "    model = kmeans.fit(X_pca)\n",
    "    scores.append(abs(model.score(X_pca)))\n",
    "    \n",
    "\n",
    "    "
   ]
  },
  {
   "cell_type": "code",
   "execution_count": 67,
   "metadata": {},
   "outputs": [
    {
     "data": {
      "image/png": "[encoded data removed]",
      "text/plain": [
       "<matplotlib.figure.Figure at 0x7f32d6dc7be0>"
      ]
     },
     "metadata": {
      "needs_background": "light"
     },
     "output_type": "display_data"
    }
   ],
   "source": [
    "# Investigate the change in within-cluster distance across number of clusters.\n",
    "# HINT: Use matplotlib's plot function to visualize this relationship.\n",
    "\n",
    "centroids = list(range(1,n,2))\n",
    "plt.plot(centroids, scores, '--b*')\n",
    "plt.xlabel('Number of clusters')\n",
    "plt.ylabel('SSE')\n",
    "plt.title('Number of clusters (k) vs. SSE')\n",
    "plt.show()"
   ]
  },
  {
   "cell_type": "code",
   "execution_count": 111,
   "metadata": {},
   "outputs": [],
   "source": [
    "# Re-fit the k-means model with the selected number of clusters and obtain\n",
    "# cluster predictions for the general population demographics data.\n",
    "kmeans = KMeans(15)\n",
    "model = kmeans.fit(X_pca)\n",
    "general_labels = model.predict(X_pca)"
   ]
  },
  {
   "cell_type": "markdown",
   "metadata": {},
   "source": [
    "### Discussion 3.1: Apply Clustering to General Population\n",
    "\n",
    "We investigate the within-cluster distance across different number of clusters from 1 to 28 with step size of 2, and plotted the scores. From the figure, we decide to cluster our data into 15 clusters. "
   ]
  },
  {
   "cell_type": "markdown",
   "metadata": {},
   "source": [
    "### Step 3.2: Apply All Steps to the Customer Data\n",
    "\n",
    "Now that we have clusters and cluster centers for the general population, it's time to see how the customer data maps on to those clusters. In the last step of the project, we will interpret how the general population fits apply to the customer data.\n",
    "\n",
    "- We apply the same feature wrangling, selection, and engineering steps to the customer demographics using the `clean_data()` function we created earlier. \n",
    "- We use the sklearn objects from the general demographics data, and apply their transformations to the customers data."
   ]
  },
  {
   "cell_type": "code",
   "execution_count": 118,
   "metadata": {},
   "outputs": [],
   "source": [
    "# Load in the customer demographics data.\n",
    "customer_df = pd.read_csv('./Udacity_CUSTOMERS_Subset.csv', sep=';')"
   ]
  },
  {
   "cell_type": "code",
   "execution_count": 120,
   "metadata": {},
   "outputs": [],
   "source": [
    "# Apply preprocessing, feature transformation, and clustering from the general\n",
    "# demographics onto the customer data, obtaining cluster predictions for the\n",
    "# customer demographics data.\n",
    "processed_customers = clean_data(customer_df, feat_info)"
   ]
  },
  {
   "cell_type": "code",
   "execution_count": 122,
   "metadata": {},
   "outputs": [],
   "source": [
    "numpy_values = imputer.transform(processed_customers)\n",
    "processed_customers = pd.DataFrame(numpy_values, columns=processed_customers.columns)"
   ]
  },
  {
   "cell_type": "code",
   "execution_count": 123,
   "metadata": {},
   "outputs": [
    {
     "name": "stdout",
     "output_type": "stream",
     "text": [
      "There is a total of 0 missing values in the customer dataset. \n",
      "\n"
     ]
    }
   ],
   "source": [
    "print(f'There is a total of {processed_customers.isna().sum().sum()} missing values in the customer dataset.', \"\\n\")"
   ]
  },
  {
   "cell_type": "code",
   "execution_count": 124,
   "metadata": {},
   "outputs": [],
   "source": [
    "customer_scaled = scaler.transform(processed_customers)\n",
    "customer_pca = pca.transform(customer_scaled)"
   ]
  },
  {
   "cell_type": "code",
   "execution_count": 125,
   "metadata": {},
   "outputs": [],
   "source": [
    "customer_labels = model.predict(customer_pca)"
   ]
  },
  {
   "cell_type": "code",
   "execution_count": 126,
   "metadata": {},
   "outputs": [
    {
     "data": {
      "text/plain": [
       "(191652, 65)"
      ]
     },
     "execution_count": 126,
     "metadata": {},
     "output_type": "execute_result"
    }
   ],
   "source": [
    "processed_customers.shape"
   ]
  },
  {
   "cell_type": "markdown",
   "metadata": {},
   "source": [
    "### Step 3.3: Compare Customer Data to Demographics Data\n",
    "\n",
    "At this point, we have clustered data based on demographics of the general population of Germany, and seen how the customer data for a mail-order sales company maps onto those demographic clusters. In this final substep, we will compare the two cluster distributions to see where the strongest customer base for the company is.\n",
    "\n",
    "Consider the proportion of persons in each cluster for the general population, and the proportions for the customers. If we think the company's customer base to be universal, then the cluster assignment proportions should be fairly similar between the two. If there are only particular segments of the population that are interested in the company's products, then we should see a mismatch from one to the other. If there is a higher proportion of persons in a cluster for the customer data compared to the general population (e.g. 5% of persons are assigned to a cluster for the general population, but 15% of the customer data is closest to that cluster's centroid) then that suggests the people in that cluster to be a target audience for the company. On the other hand, the proportion of the data in a cluster being larger in the general population than the customer data (e.g. only 2% of customers closest to a population centroid that captures 6% of the data) suggests that group of persons to be outside of the target demographics.\n",
    "\n",
    "We consider the following points in this step:\n",
    "\n",
    "- Compute the proportion of data points in each cluster for the general population and the customer data. We use Seaborn's [`countplot()`](https://seaborn.pydata.org/generated/seaborn.countplot.html) visualizations both for the individual dataset proportions, but also to visualize the ratios in cluster representation between groups. \n",
    "- Which cluster or clusters are overrepresented in the customer dataset compared to the general population? We select one such cluster and infer what kind of people might be represented by that cluster. We also use the principal component interpretations from step 2.3 to help you make this inference. Alternatively, we can use the `.inverse_transform()` method of the PCA and StandardScaler objects to transform centroids back to the original data space and interpret the retrieved values directly.\n",
    "- Lastly we perform a similar investigation for the underrepresented clusters. Which cluster or clusters are underrepresented in the customer dataset compared to the general population, and what kinds of people are typified by these clusters?"
   ]
  },
  {
   "cell_type": "code",
   "execution_count": 127,
   "metadata": {},
   "outputs": [
    {
     "data": {
      "image/png": "[encoded data removed]",
      "text/plain": [
       "<matplotlib.figure.Figure at 0x7f32d6fb5748>"
      ]
     },
     "metadata": {
      "needs_background": "light"
     },
     "output_type": "display_data"
    }
   ],
   "source": [
    "# Compare the proportion of data in each cluster for the customer data to the\n",
    "# proportion of data in each cluster for the general population.\n",
    "fig, (ax1, ax2) = plt.subplots(1,2,figsize=(16,6))\n",
    "\n",
    "sns.countplot(general_labels, ax=ax1)\n",
    "ax1.set_title('General Population Clusters')\n",
    "sns.countplot(customer_labels, ax=ax2)\n",
    "ax2.set_title('Customer Population Clusters');\n"
   ]
  },
  {
   "cell_type": "code",
   "execution_count": 128,
   "metadata": {},
   "outputs": [],
   "source": [
    "# What kinds of people are part of a cluster that is overrepresented in the\n",
    "# customer data compared to the general population?\n",
    "centroid_11 = scaler.inverse_transform(pca.inverse_transform(model.cluster_centers_[11]))"
   ]
  },
  {
   "cell_type": "code",
   "execution_count": 129,
   "metadata": {},
   "outputs": [
    {
     "data": {
      "text/plain": [
       "ALTERSKATEGORIE_GROB        1.692459\n",
       "ANREDE_KZ                   1.992797\n",
       "FINANZ_MINIMALIST           1.385077\n",
       "FINANZ_SPARER               4.225727\n",
       "FINANZ_VORSORGER            2.329024\n",
       "FINANZ_ANLEGER              4.337816\n",
       "FINANZ_UNAUFFAELLIGER       3.865982\n",
       "FINANZ_HAUSBAUER            3.943247\n",
       "GREEN_AVANTGARDE            0.059611\n",
       "HEALTH_TYP                  2.194896\n",
       "RETOURTYP_BK_S              2.574388\n",
       "SEMIO_SOZ                   3.140108\n",
       "SEMIO_FAM                   3.914725\n",
       "SEMIO_REL                   5.342221\n",
       "SEMIO_MAT                   5.000685\n",
       "SEMIO_VERT                  2.342469\n",
       "SEMIO_LUST                  2.997056\n",
       "SEMIO_ERL                   4.274205\n",
       "SEMIO_KULT                  4.040796\n",
       "SEMIO_RAT                   6.092054\n",
       "SEMIO_KRIT                  5.484409\n",
       "SEMIO_DOM                   5.964994\n",
       "SEMIO_KAEM                  5.767715\n",
       "SEMIO_PFLICHT               6.146321\n",
       "SEMIO_TRADV                 5.572280\n",
       "SOHO_KZ                     0.008072\n",
       "VERS_TYP                    1.460812\n",
       "ANZ_PERSONEN                1.501408\n",
       "ANZ_TITEL                   0.000263\n",
       "HH_EINKOMMEN_SCORE          5.318977\n",
       "                            ...     \n",
       "MIN_GEBAEUDEJAHR         1992.665699\n",
       "OST_WEST_KZ                 0.123601\n",
       "KBA05_ANTG1                 0.953332\n",
       "KBA05_ANTG2                 2.035932\n",
       "KBA05_ANTG3                 0.951625\n",
       "KBA05_ANTG4                 0.217591\n",
       "KBA05_GBZ                   2.853297\n",
       "BALLRAUM                    4.346819\n",
       "EWDICHTE                    3.970086\n",
       "INNENSTADT                  4.723543\n",
       "GEBAEUDETYP_RASTER          3.769536\n",
       "KKK                         2.726826\n",
       "MOBI_REGIO                  2.507031\n",
       "ONLINE_AFFINITAET           2.886877\n",
       "REGIOTYP                    4.526216\n",
       "KBA13_ANZAHL_PKW          710.668108\n",
       "PLZ8_ANTG1                  2.275199\n",
       "PLZ8_ANTG2                  3.027458\n",
       "PLZ8_ANTG3                  1.630512\n",
       "PLZ8_ANTG4                  0.595147\n",
       "PLZ8_BAUMAX                 1.662179\n",
       "PLZ8_HHZ                    3.870304\n",
       "PLZ8_GBZ                    3.726758\n",
       "ARBEIT                      3.238457\n",
       "ORTSGR_KLS9                 5.241678\n",
       "RELAT_AB                    3.257403\n",
       "DECADE                     85.301144\n",
       "MOVEMENT                    0.925317\n",
       "WEALTH                      3.647320\n",
       "LIFESTAGE                   2.626797\n",
       "Length: 65, dtype: float64"
      ]
     },
     "execution_count": 129,
     "metadata": {},
     "output_type": "execute_result"
    }
   ],
   "source": [
    "overrepresented = pd.Series(data = centroid_11, index=processed_customers.columns)\n",
    "overrepresented"
   ]
  },
  {
   "cell_type": "code",
   "execution_count": 142,
   "metadata": {},
   "outputs": [],
   "source": [
    "# What kinds of people are part of a cluster that is underrepresented in the\n",
    "# customer data compared to the general population?\n",
    "centroid_0 = scaler.inverse_transform(pca.inverse_transform(model.cluster_centers_[0]))"
   ]
  },
  {
   "cell_type": "code",
   "execution_count": 143,
   "metadata": {},
   "outputs": [
    {
     "data": {
      "text/plain": [
       "ALTERSKATEGORIE_GROB        1.867968\n",
       "ANREDE_KZ                   0.950811\n",
       "FINANZ_MINIMALIST           3.038416\n",
       "FINANZ_SPARER               4.089818\n",
       "FINANZ_VORSORGER            2.165580\n",
       "FINANZ_ANLEGER              3.838738\n",
       "FINANZ_UNAUFFAELLIGER       4.031991\n",
       "FINANZ_HAUSBAUER            2.245706\n",
       "GREEN_AVANTGARDE            0.295000\n",
       "HEALTH_TYP                  2.185973\n",
       "RETOURTYP_BK_S              2.491283\n",
       "SEMIO_SOZ                   6.014336\n",
       "SEMIO_FAM                   6.553049\n",
       "SEMIO_REL                   6.328549\n",
       "SEMIO_MAT                   5.323617\n",
       "SEMIO_VERT                  6.334548\n",
       "SEMIO_LUST                  3.173132\n",
       "SEMIO_ERL                   2.187198\n",
       "SEMIO_KULT                  6.837453\n",
       "SEMIO_RAT                   4.240960\n",
       "SEMIO_KRIT                  2.561534\n",
       "SEMIO_DOM                   2.577972\n",
       "SEMIO_KAEM                  1.942424\n",
       "SEMIO_PFLICHT               5.590232\n",
       "SEMIO_TRADV                 5.088384\n",
       "SOHO_KZ                     0.010146\n",
       "VERS_TYP                    1.431610\n",
       "ANZ_PERSONEN                2.026830\n",
       "ANZ_TITEL                   0.001323\n",
       "HH_EINKOMMEN_SCORE          3.812604\n",
       "                            ...     \n",
       "MIN_GEBAEUDEJAHR         1994.058376\n",
       "OST_WEST_KZ                 0.166243\n",
       "KBA05_ANTG1                 2.116099\n",
       "KBA05_ANTG2                 1.348175\n",
       "KBA05_ANTG3                 0.330460\n",
       "KBA05_ANTG4                 0.093255\n",
       "KBA05_GBZ                   3.767353\n",
       "BALLRAUM                    4.872899\n",
       "EWDICHTE                    3.021079\n",
       "INNENSTADT                  5.413096\n",
       "GEBAEUDETYP_RASTER          3.983776\n",
       "KKK                         2.663651\n",
       "MOBI_REGIO                  3.657099\n",
       "ONLINE_AFFINITAET           3.787847\n",
       "REGIOTYP                    4.212890\n",
       "KBA13_ANZAHL_PKW          702.127013\n",
       "PLZ8_ANTG1                  2.792226\n",
       "PLZ8_ANTG2                  2.454019\n",
       "PLZ8_ANTG3                  1.040341\n",
       "PLZ8_ANTG4                  0.299206\n",
       "PLZ8_BAUMAX                 1.166889\n",
       "PLZ8_HHZ                    3.561758\n",
       "PLZ8_GBZ                    3.888489\n",
       "ARBEIT                      2.805517\n",
       "ORTSGR_KLS9                 4.082244\n",
       "RELAT_AB                    2.569303\n",
       "DECADE                     87.160158\n",
       "MOVEMENT                    0.699744\n",
       "WEALTH                      2.518700\n",
       "LIFESTAGE                   3.253162\n",
       "Length: 65, dtype: float64"
      ]
     },
     "execution_count": 143,
     "metadata": {},
     "output_type": "execute_result"
    }
   ],
   "source": [
    "underrepresented = pd.Series(data = centroid_0, index=processed_customers.columns)\n",
    "underrepresented"
   ]
  },
  {
   "cell_type": "markdown",
   "metadata": {},
   "source": [
    "### Discussion 3.3: Compare Customer Data to Demographics Data\n",
    "\n",
    "From the analysis, we see that the strongest customer base for the company is in cluster 9, as they are over-represented in the customers data in comparison to the general population data. Segments of the population that are relatively popular with the mail-order company are:\n",
    "\n",
    "    - People whose estimated age is between 30 - 45 years (ALTERSKATEGORIE_GROB = 1.692459)\n",
    "    - Females (ANREDE_KZ = 1.992797)\n",
    "    - People with very high financial topology (FINANZ_MINIMALIST = 1.385077)\n",
    "\n",
    "However, cluster 8 is underrepresented in the customers data in comparison to the general population data. Segments of the population that are relatively unpopular with the mail-order company are: \n",
    "\n",
    "    - People whose estimated age is between 30 - 45 years (ALTERSKATEGORIE_GROB = 1.867968)\n",
    "    - Males (ANREDE_KZ = 0.950811)\n",
    "    - People with average financial topology (FINANZ_MINIMALIST = 3.038416)\n"
   ]
  },
  {
   "cell_type": "code",
   "execution_count": null,
   "metadata": {},
   "outputs": [],
   "source": []
  }
 ],
 "metadata": {
  "kernelspec": {
   "display_name": "Python 3 (ipykernel)",
   "language": "python",
   "name": "python3"
  },
  "language_info": {
   "codemirror_mode": {
    "name": "ipython",
    "version": 3
   },
   "file_extension": ".py",
   "mimetype": "text/x-python",
   "name": "python",
   "nbconvert_exporter": "python",
   "pygments_lexer": "ipython3",
   "version": "3.7.11"
  }
 },
 "nbformat": 4,
 "nbformat_minor": 2
}
